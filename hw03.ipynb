{
 "cells": [
  {
   "cell_type": "markdown",
   "metadata": {
    "toc": true
   },
   "source": [
    "### Домашнее задание 3\n",
    "<ol>\n",
    "<li>Постройте нейронную сеть(берем простую линейную сеть, которую разбирали на уроке: меняем число слоев, число нейронов , типы активации, тип оптимизатора) на датасет from sklearn.datasets import load_boston.\n",
    "<ul>\n",
    "<li>Измените функцию потерь и метрику для этой задачи. Постройте 10-15 вариантов и сведите результаты их работы в таблицу Опишите, какого результата вы добились от нейросети? Что помогло вам улучшить ее точность?\n",
    "<li>Поработайте с документацией TensorFlow 2. Найти 2-3 полезные команды TensorFlow, не разобранные на уроке (полезные для Вас).\n",
    "</ul>\n",
    "    <li>(*) Попробуйте обучить нейронную сеть на TensorFlow 2 на датасете imdb_reviews .Опишите, какого результата вы добились от нейросети? Что помогло вам улучшить ее точность?\n"
   ]
  },
  {
   "cell_type": "code",
   "execution_count": 2,
   "metadata": {},
   "outputs": [],
   "source": [
    "\n",
    "import matplotlib.pyplot as plt\n",
    "import pandas as pd\n",
    "import numpy as np\n",
    "import os\n",
    "import os.path\n",
    "import itertools\n",
    "import warnings\n",
    "import time\n",
    "from pprint import pprint\n",
    "import seaborn as sns\n",
    "\n",
    "from tensorflow import keras as keras\n",
    "import tensorflow as tf\n",
    "from tensorflow.keras.callbacks import EarlyStopping\n",
    "from tensorflow.keras import backend as K\n",
    "\n",
    "import warnings\n",
    "\n",
    "from tensorflow.keras import Sequential\n",
    "from tensorflow.keras.layers import Dense, Dropout\n",
    "from tensorflow.keras.utils import plot_model\n",
    "from keras.datasets import boston_housing\n",
    "\n",
    "from sklearn.metrics import r2_score\n",
    "\n",
    "%matplotlib inline\n",
    "warnings.filterwarnings('ignore')"
   ]
  },
  {
   "cell_type": "markdown",
   "metadata": {},
   "source": [
    "#### Загружаем данные"
   ]
  },
  {
   "cell_type": "code",
   "execution_count": 1,
   "metadata": {},
   "outputs": [
    {
     "name": "stdout",
     "output_type": "stream",
     "text": [
      "Downloading data from https://storage.googleapis.com/tensorflow/tf-keras-datasets/boston_housing.npz\n",
      "57344/57026 [==============================] - 0s 0us/step\n",
      "65536/57026 [==================================] - 0s 0us/step\n"
     ]
    },
    {
     "data": {
      "text/plain": [
       "((404, 13), (404,), (102, 13))"
      ]
     },
     "execution_count": 1,
     "metadata": {},
     "output_type": "execute_result"
    }
   ],
   "source": [
    "\n",
    "\n",
    "(X_train, y_train), (X_test, y_test) = boston_housing.load_data()\n",
    "\n",
    "X_train.shape, y_train.shape, X_test.shape"
   ]
  },
  {
   "cell_type": "code",
   "execution_count": 3,
   "metadata": {},
   "outputs": [
    {
     "name": "stdout",
     "output_type": "stream",
     "text": [
      "<class 'pandas.core.frame.DataFrame'>\n",
      "RangeIndex: 404 entries, 0 to 403\n",
      "Data columns (total 13 columns):\n",
      " #   Column  Non-Null Count  Dtype  \n",
      "---  ------  --------------  -----  \n",
      " 0   0       404 non-null    float64\n",
      " 1   1       404 non-null    float64\n",
      " 2   2       404 non-null    float64\n",
      " 3   3       404 non-null    float64\n",
      " 4   4       404 non-null    float64\n",
      " 5   5       404 non-null    float64\n",
      " 6   6       404 non-null    float64\n",
      " 7   7       404 non-null    float64\n",
      " 8   8       404 non-null    float64\n",
      " 9   9       404 non-null    float64\n",
      " 10  10      404 non-null    float64\n",
      " 11  11      404 non-null    float64\n",
      " 12  12      404 non-null    float64\n",
      "dtypes: float64(13)\n",
      "memory usage: 41.2 KB\n"
     ]
    },
    {
     "data": {
      "text/plain": [
       "None"
      ]
     },
     "metadata": {},
     "output_type": "display_data"
    },
    {
     "name": "stdout",
     "output_type": "stream",
     "text": [
      "<class 'pandas.core.frame.DataFrame'>\n",
      "RangeIndex: 102 entries, 0 to 101\n",
      "Data columns (total 13 columns):\n",
      " #   Column  Non-Null Count  Dtype  \n",
      "---  ------  --------------  -----  \n",
      " 0   0       102 non-null    float64\n",
      " 1   1       102 non-null    float64\n",
      " 2   2       102 non-null    float64\n",
      " 3   3       102 non-null    float64\n",
      " 4   4       102 non-null    float64\n",
      " 5   5       102 non-null    float64\n",
      " 6   6       102 non-null    float64\n",
      " 7   7       102 non-null    float64\n",
      " 8   8       102 non-null    float64\n",
      " 9   9       102 non-null    float64\n",
      " 10  10      102 non-null    float64\n",
      " 11  11      102 non-null    float64\n",
      " 12  12      102 non-null    float64\n",
      "dtypes: float64(13)\n",
      "memory usage: 10.5 KB\n"
     ]
    },
    {
     "data": {
      "text/plain": [
       "None"
      ]
     },
     "metadata": {},
     "output_type": "display_data"
    }
   ],
   "source": [
    "# 1.2. Features types and NANs\n",
    "X_train_df = pd.DataFrame(X_train)\n",
    "X_test_df = pd.DataFrame(X_test)\n",
    "\n",
    "display(X_train_df.info())\n",
    "display(X_test_df.info())"
   ]
  },
  {
   "cell_type": "code",
   "execution_count": 4,
   "metadata": {},
   "outputs": [
    {
     "data": {
      "text/html": [
       "<div>\n",
       "<style scoped>\n",
       "    .dataframe tbody tr th:only-of-type {\n",
       "        vertical-align: middle;\n",
       "    }\n",
       "\n",
       "    .dataframe tbody tr th {\n",
       "        vertical-align: top;\n",
       "    }\n",
       "\n",
       "    .dataframe thead th {\n",
       "        text-align: right;\n",
       "    }\n",
       "</style>\n",
       "<table border=\"1\" class=\"dataframe\">\n",
       "  <thead>\n",
       "    <tr style=\"text-align: right;\">\n",
       "      <th></th>\n",
       "      <th>0</th>\n",
       "      <th>1</th>\n",
       "      <th>2</th>\n",
       "      <th>3</th>\n",
       "      <th>4</th>\n",
       "      <th>5</th>\n",
       "      <th>6</th>\n",
       "      <th>7</th>\n",
       "      <th>8</th>\n",
       "      <th>9</th>\n",
       "      <th>10</th>\n",
       "      <th>11</th>\n",
       "      <th>12</th>\n",
       "    </tr>\n",
       "  </thead>\n",
       "  <tbody>\n",
       "    <tr>\n",
       "      <th>count</th>\n",
       "      <td>404.000000</td>\n",
       "      <td>404.000000</td>\n",
       "      <td>404.000000</td>\n",
       "      <td>404.000000</td>\n",
       "      <td>404.000000</td>\n",
       "      <td>404.000000</td>\n",
       "      <td>404.000000</td>\n",
       "      <td>404.000000</td>\n",
       "      <td>404.000000</td>\n",
       "      <td>404.000000</td>\n",
       "      <td>404.000000</td>\n",
       "      <td>404.000000</td>\n",
       "      <td>404.000000</td>\n",
       "    </tr>\n",
       "    <tr>\n",
       "      <th>mean</th>\n",
       "      <td>3.745111</td>\n",
       "      <td>11.480198</td>\n",
       "      <td>11.104431</td>\n",
       "      <td>0.061881</td>\n",
       "      <td>0.557356</td>\n",
       "      <td>6.267082</td>\n",
       "      <td>69.010644</td>\n",
       "      <td>3.740271</td>\n",
       "      <td>9.440594</td>\n",
       "      <td>405.898515</td>\n",
       "      <td>18.475990</td>\n",
       "      <td>354.783168</td>\n",
       "      <td>12.740817</td>\n",
       "    </tr>\n",
       "    <tr>\n",
       "      <th>std</th>\n",
       "      <td>9.240734</td>\n",
       "      <td>23.767711</td>\n",
       "      <td>6.811308</td>\n",
       "      <td>0.241238</td>\n",
       "      <td>0.117293</td>\n",
       "      <td>0.709788</td>\n",
       "      <td>27.940665</td>\n",
       "      <td>2.030215</td>\n",
       "      <td>8.698360</td>\n",
       "      <td>166.374543</td>\n",
       "      <td>2.200382</td>\n",
       "      <td>94.111148</td>\n",
       "      <td>7.254545</td>\n",
       "    </tr>\n",
       "    <tr>\n",
       "      <th>min</th>\n",
       "      <td>0.006320</td>\n",
       "      <td>0.000000</td>\n",
       "      <td>0.460000</td>\n",
       "      <td>0.000000</td>\n",
       "      <td>0.385000</td>\n",
       "      <td>3.561000</td>\n",
       "      <td>2.900000</td>\n",
       "      <td>1.129600</td>\n",
       "      <td>1.000000</td>\n",
       "      <td>188.000000</td>\n",
       "      <td>12.600000</td>\n",
       "      <td>0.320000</td>\n",
       "      <td>1.730000</td>\n",
       "    </tr>\n",
       "    <tr>\n",
       "      <th>25%</th>\n",
       "      <td>0.081437</td>\n",
       "      <td>0.000000</td>\n",
       "      <td>5.130000</td>\n",
       "      <td>0.000000</td>\n",
       "      <td>0.453000</td>\n",
       "      <td>5.874750</td>\n",
       "      <td>45.475000</td>\n",
       "      <td>2.077100</td>\n",
       "      <td>4.000000</td>\n",
       "      <td>279.000000</td>\n",
       "      <td>17.225000</td>\n",
       "      <td>374.672500</td>\n",
       "      <td>6.890000</td>\n",
       "    </tr>\n",
       "    <tr>\n",
       "      <th>50%</th>\n",
       "      <td>0.268880</td>\n",
       "      <td>0.000000</td>\n",
       "      <td>9.690000</td>\n",
       "      <td>0.000000</td>\n",
       "      <td>0.538000</td>\n",
       "      <td>6.198500</td>\n",
       "      <td>78.500000</td>\n",
       "      <td>3.142300</td>\n",
       "      <td>5.000000</td>\n",
       "      <td>330.000000</td>\n",
       "      <td>19.100000</td>\n",
       "      <td>391.250000</td>\n",
       "      <td>11.395000</td>\n",
       "    </tr>\n",
       "    <tr>\n",
       "      <th>75%</th>\n",
       "      <td>3.674808</td>\n",
       "      <td>12.500000</td>\n",
       "      <td>18.100000</td>\n",
       "      <td>0.000000</td>\n",
       "      <td>0.631000</td>\n",
       "      <td>6.609000</td>\n",
       "      <td>94.100000</td>\n",
       "      <td>5.118000</td>\n",
       "      <td>24.000000</td>\n",
       "      <td>666.000000</td>\n",
       "      <td>20.200000</td>\n",
       "      <td>396.157500</td>\n",
       "      <td>17.092500</td>\n",
       "    </tr>\n",
       "    <tr>\n",
       "      <th>max</th>\n",
       "      <td>88.976200</td>\n",
       "      <td>100.000000</td>\n",
       "      <td>27.740000</td>\n",
       "      <td>1.000000</td>\n",
       "      <td>0.871000</td>\n",
       "      <td>8.725000</td>\n",
       "      <td>100.000000</td>\n",
       "      <td>10.710300</td>\n",
       "      <td>24.000000</td>\n",
       "      <td>711.000000</td>\n",
       "      <td>22.000000</td>\n",
       "      <td>396.900000</td>\n",
       "      <td>37.970000</td>\n",
       "    </tr>\n",
       "  </tbody>\n",
       "</table>\n",
       "</div>"
      ],
      "text/plain": [
       "               0           1           2           3           4           5   \\\n",
       "count  404.000000  404.000000  404.000000  404.000000  404.000000  404.000000   \n",
       "mean     3.745111   11.480198   11.104431    0.061881    0.557356    6.267082   \n",
       "std      9.240734   23.767711    6.811308    0.241238    0.117293    0.709788   \n",
       "min      0.006320    0.000000    0.460000    0.000000    0.385000    3.561000   \n",
       "25%      0.081437    0.000000    5.130000    0.000000    0.453000    5.874750   \n",
       "50%      0.268880    0.000000    9.690000    0.000000    0.538000    6.198500   \n",
       "75%      3.674808   12.500000   18.100000    0.000000    0.631000    6.609000   \n",
       "max     88.976200  100.000000   27.740000    1.000000    0.871000    8.725000   \n",
       "\n",
       "               6           7           8           9           10          11  \\\n",
       "count  404.000000  404.000000  404.000000  404.000000  404.000000  404.000000   \n",
       "mean    69.010644    3.740271    9.440594  405.898515   18.475990  354.783168   \n",
       "std     27.940665    2.030215    8.698360  166.374543    2.200382   94.111148   \n",
       "min      2.900000    1.129600    1.000000  188.000000   12.600000    0.320000   \n",
       "25%     45.475000    2.077100    4.000000  279.000000   17.225000  374.672500   \n",
       "50%     78.500000    3.142300    5.000000  330.000000   19.100000  391.250000   \n",
       "75%     94.100000    5.118000   24.000000  666.000000   20.200000  396.157500   \n",
       "max    100.000000   10.710300   24.000000  711.000000   22.000000  396.900000   \n",
       "\n",
       "               12  \n",
       "count  404.000000  \n",
       "mean    12.740817  \n",
       "std      7.254545  \n",
       "min      1.730000  \n",
       "25%      6.890000  \n",
       "50%     11.395000  \n",
       "75%     17.092500  \n",
       "max     37.970000  "
      ]
     },
     "metadata": {},
     "output_type": "display_data"
    },
    {
     "data": {
      "text/html": [
       "<div>\n",
       "<style scoped>\n",
       "    .dataframe tbody tr th:only-of-type {\n",
       "        vertical-align: middle;\n",
       "    }\n",
       "\n",
       "    .dataframe tbody tr th {\n",
       "        vertical-align: top;\n",
       "    }\n",
       "\n",
       "    .dataframe thead th {\n",
       "        text-align: right;\n",
       "    }\n",
       "</style>\n",
       "<table border=\"1\" class=\"dataframe\">\n",
       "  <thead>\n",
       "    <tr style=\"text-align: right;\">\n",
       "      <th></th>\n",
       "      <th>0</th>\n",
       "      <th>1</th>\n",
       "      <th>2</th>\n",
       "      <th>3</th>\n",
       "      <th>4</th>\n",
       "      <th>5</th>\n",
       "      <th>6</th>\n",
       "      <th>7</th>\n",
       "      <th>8</th>\n",
       "      <th>9</th>\n",
       "      <th>10</th>\n",
       "      <th>11</th>\n",
       "      <th>12</th>\n",
       "    </tr>\n",
       "  </thead>\n",
       "  <tbody>\n",
       "    <tr>\n",
       "      <th>count</th>\n",
       "      <td>102.000000</td>\n",
       "      <td>102.000000</td>\n",
       "      <td>102.000000</td>\n",
       "      <td>102.000000</td>\n",
       "      <td>102.000000</td>\n",
       "      <td>102.000000</td>\n",
       "      <td>102.000000</td>\n",
       "      <td>102.000000</td>\n",
       "      <td>102.000000</td>\n",
       "      <td>102.000000</td>\n",
       "      <td>102.000000</td>\n",
       "      <td>102.000000</td>\n",
       "      <td>102.00000</td>\n",
       "    </tr>\n",
       "    <tr>\n",
       "      <th>mean</th>\n",
       "      <td>3.092336</td>\n",
       "      <td>10.901961</td>\n",
       "      <td>11.264902</td>\n",
       "      <td>0.098039</td>\n",
       "      <td>0.544156</td>\n",
       "      <td>6.354157</td>\n",
       "      <td>66.849020</td>\n",
       "      <td>4.011982</td>\n",
       "      <td>9.980392</td>\n",
       "      <td>417.500000</td>\n",
       "      <td>18.374510</td>\n",
       "      <td>364.163333</td>\n",
       "      <td>12.30549</td>\n",
       "    </tr>\n",
       "    <tr>\n",
       "      <th>std</th>\n",
       "      <td>5.373088</td>\n",
       "      <td>21.572929</td>\n",
       "      <td>7.084148</td>\n",
       "      <td>0.298836</td>\n",
       "      <td>0.110015</td>\n",
       "      <td>0.672335</td>\n",
       "      <td>29.034993</td>\n",
       "      <td>2.379973</td>\n",
       "      <td>8.772121</td>\n",
       "      <td>177.390477</td>\n",
       "      <td>2.026785</td>\n",
       "      <td>79.138325</td>\n",
       "      <td>6.69540</td>\n",
       "    </tr>\n",
       "    <tr>\n",
       "      <th>min</th>\n",
       "      <td>0.013110</td>\n",
       "      <td>0.000000</td>\n",
       "      <td>1.220000</td>\n",
       "      <td>0.000000</td>\n",
       "      <td>0.392000</td>\n",
       "      <td>4.880000</td>\n",
       "      <td>6.000000</td>\n",
       "      <td>1.465500</td>\n",
       "      <td>1.000000</td>\n",
       "      <td>187.000000</td>\n",
       "      <td>13.000000</td>\n",
       "      <td>24.650000</td>\n",
       "      <td>1.92000</td>\n",
       "    </tr>\n",
       "    <tr>\n",
       "      <th>25%</th>\n",
       "      <td>0.084840</td>\n",
       "      <td>0.000000</td>\n",
       "      <td>5.455000</td>\n",
       "      <td>0.000000</td>\n",
       "      <td>0.445500</td>\n",
       "      <td>5.966000</td>\n",
       "      <td>42.450000</td>\n",
       "      <td>2.117375</td>\n",
       "      <td>4.000000</td>\n",
       "      <td>279.250000</td>\n",
       "      <td>17.400000</td>\n",
       "      <td>377.692500</td>\n",
       "      <td>7.30500</td>\n",
       "    </tr>\n",
       "    <tr>\n",
       "      <th>50%</th>\n",
       "      <td>0.229015</td>\n",
       "      <td>0.000000</td>\n",
       "      <td>9.795000</td>\n",
       "      <td>0.000000</td>\n",
       "      <td>0.532000</td>\n",
       "      <td>6.229000</td>\n",
       "      <td>73.750000</td>\n",
       "      <td>3.324850</td>\n",
       "      <td>5.000000</td>\n",
       "      <td>330.000000</td>\n",
       "      <td>18.900000</td>\n",
       "      <td>392.110000</td>\n",
       "      <td>11.06000</td>\n",
       "    </tr>\n",
       "    <tr>\n",
       "      <th>75%</th>\n",
       "      <td>3.779445</td>\n",
       "      <td>16.250000</td>\n",
       "      <td>18.100000</td>\n",
       "      <td>0.000000</td>\n",
       "      <td>0.609000</td>\n",
       "      <td>6.633750</td>\n",
       "      <td>92.975000</td>\n",
       "      <td>5.276650</td>\n",
       "      <td>24.000000</td>\n",
       "      <td>666.000000</td>\n",
       "      <td>20.200000</td>\n",
       "      <td>396.780000</td>\n",
       "      <td>15.91500</td>\n",
       "    </tr>\n",
       "    <tr>\n",
       "      <th>max</th>\n",
       "      <td>25.046100</td>\n",
       "      <td>90.000000</td>\n",
       "      <td>27.740000</td>\n",
       "      <td>1.000000</td>\n",
       "      <td>0.871000</td>\n",
       "      <td>8.780000</td>\n",
       "      <td>100.000000</td>\n",
       "      <td>12.126500</td>\n",
       "      <td>24.000000</td>\n",
       "      <td>711.000000</td>\n",
       "      <td>21.200000</td>\n",
       "      <td>396.900000</td>\n",
       "      <td>31.99000</td>\n",
       "    </tr>\n",
       "  </tbody>\n",
       "</table>\n",
       "</div>"
      ],
      "text/plain": [
       "               0           1           2           3           4           5   \\\n",
       "count  102.000000  102.000000  102.000000  102.000000  102.000000  102.000000   \n",
       "mean     3.092336   10.901961   11.264902    0.098039    0.544156    6.354157   \n",
       "std      5.373088   21.572929    7.084148    0.298836    0.110015    0.672335   \n",
       "min      0.013110    0.000000    1.220000    0.000000    0.392000    4.880000   \n",
       "25%      0.084840    0.000000    5.455000    0.000000    0.445500    5.966000   \n",
       "50%      0.229015    0.000000    9.795000    0.000000    0.532000    6.229000   \n",
       "75%      3.779445   16.250000   18.100000    0.000000    0.609000    6.633750   \n",
       "max     25.046100   90.000000   27.740000    1.000000    0.871000    8.780000   \n",
       "\n",
       "               6           7           8           9           10          11  \\\n",
       "count  102.000000  102.000000  102.000000  102.000000  102.000000  102.000000   \n",
       "mean    66.849020    4.011982    9.980392  417.500000   18.374510  364.163333   \n",
       "std     29.034993    2.379973    8.772121  177.390477    2.026785   79.138325   \n",
       "min      6.000000    1.465500    1.000000  187.000000   13.000000   24.650000   \n",
       "25%     42.450000    2.117375    4.000000  279.250000   17.400000  377.692500   \n",
       "50%     73.750000    3.324850    5.000000  330.000000   18.900000  392.110000   \n",
       "75%     92.975000    5.276650   24.000000  666.000000   20.200000  396.780000   \n",
       "max    100.000000   12.126500   24.000000  711.000000   21.200000  396.900000   \n",
       "\n",
       "              12  \n",
       "count  102.00000  \n",
       "mean    12.30549  \n",
       "std      6.69540  \n",
       "min      1.92000  \n",
       "25%      7.30500  \n",
       "50%     11.06000  \n",
       "75%     15.91500  \n",
       "max     31.99000  "
      ]
     },
     "metadata": {},
     "output_type": "display_data"
    }
   ],
   "source": [
    "display(X_train_df.describe())\n",
    "display(X_test_df.describe())"
   ]
  },
  {
   "cell_type": "markdown",
   "metadata": {},
   "source": [
    "Пропусков нет, однако 3-й признак похож на бинарный, 8 - на категориальный"
   ]
  },
  {
   "cell_type": "code",
   "execution_count": 5,
   "metadata": {},
   "outputs": [
    {
     "name": "stdout",
     "output_type": "stream",
     "text": [
      "feature 3\n"
     ]
    },
    {
     "data": {
      "text/plain": [
       "0.0    379\n",
       "1.0     25\n",
       "Name: 3, dtype: int64"
      ]
     },
     "metadata": {},
     "output_type": "display_data"
    },
    {
     "data": {
      "text/plain": [
       "0.0    92\n",
       "1.0    10\n",
       "Name: 3, dtype: int64"
      ]
     },
     "metadata": {},
     "output_type": "display_data"
    },
    {
     "name": "stdout",
     "output_type": "stream",
     "text": [
      "------------------------------\n",
      "feature 8\n"
     ]
    },
    {
     "data": {
      "text/plain": [
       "24.0    104\n",
       "5.0      92\n",
       "4.0      89\n",
       "3.0      31\n",
       "2.0      21\n",
       "6.0      20\n",
       "8.0      20\n",
       "1.0      17\n",
       "7.0      10\n",
       "Name: 8, dtype: int64"
      ]
     },
     "metadata": {},
     "output_type": "display_data"
    },
    {
     "data": {
      "text/plain": [
       "24.0    28\n",
       "5.0     23\n",
       "4.0     21\n",
       "3.0      7\n",
       "7.0      7\n",
       "6.0      6\n",
       "8.0      4\n",
       "2.0      3\n",
       "1.0      3\n",
       "Name: 8, dtype: int64"
      ]
     },
     "metadata": {},
     "output_type": "display_data"
    }
   ],
   "source": [
    "# Проверка категориальности признаков\n",
    "print('feature 3')\n",
    "display(X_train_df[3].value_counts())\n",
    "display(X_test_df[3].value_counts())\n",
    "print(30*'-')\n",
    "print('feature 8')\n",
    "display(X_train_df[8].value_counts())\n",
    "display(X_test_df[8].value_counts())"
   ]
  },
  {
   "cell_type": "code",
   "execution_count": 8,
   "metadata": {},
   "outputs": [
    {
     "name": "stdout",
     "output_type": "stream",
     "text": [
      "set()\n"
     ]
    }
   ],
   "source": [
    "# Преобразование признаков\n",
    "\n",
    "X_train_df[[3,8]] = X_train_df[[3,8]].astype('category')\n",
    "X_test_df[[3,8]] = X_test_df[[3,8]].astype('category')\n",
    "\n",
    "X_train_df = pd.get_dummies(X_train_df, drop_first=True)\n",
    "X_test_df = pd.get_dummies(X_test_df, drop_first=True)\n",
    "\n",
    "print(set(X_train_df.columns.tolist()) - set(X_test_df.columns.tolist())) # check"
   ]
  },
  {
   "cell_type": "code",
   "execution_count": 9,
   "metadata": {},
   "outputs": [
    {
     "data": {
      "text/plain": [
       "{'4-2': 0.7741996063949135,\n",
       " '2-4': 0.7741996063949135,\n",
       " '7-4': -0.7770621279671122,\n",
       " '7-6': -0.7666699665648697,\n",
       " '4-7': -0.7770621279671122,\n",
       " '6-7': -0.7666699665648697,\n",
       " '8_24.0-9': 0.9216163253452926,\n",
       " '9-8_24.0': 0.9216163253452926}"
      ]
     },
     "metadata": {},
     "output_type": "display_data"
    },
    {
     "data": {
      "image/png": "[encoded data removed]",
      "text/plain": [
       "<Figure size 576x432 with 2 Axes>"
      ]
     },
     "metadata": {
      "needs_background": "light"
     },
     "output_type": "display_data"
    }
   ],
   "source": [
    "# 1.5. Corellation check\n",
    "\n",
    "def plot_corr_map(corr_matrix):\n",
    "    \"plot given correlation matrix in heatmap style\"\n",
    "    fig = plt.figure(figsize=(8,6))\n",
    "    ax = plt.axes()\n",
    "    ax.set_title('HEATMAP for Pearson correllation coef')\n",
    "    sns.heatmap(corr_matrix, square=True,ax=ax,cmap='PuBu');\n",
    "\n",
    "# 2.4.2. Корелляция непрерывных данных\n",
    "#corr_matrix = X_train_df.corr()\n",
    "#plot_corr_map(corr_matrix)\n",
    "\n",
    "# 3.5.3. Корелляция всех признаков\n",
    "corr_matrix = X_train_df.corr()\n",
    "plot_corr_map(corr_matrix)\n",
    "\n",
    "correlated_features = dict()\n",
    "corr_threshold = 0.75\n",
    "\n",
    "for col in corr_matrix.columns:\n",
    "    for row in corr_matrix[col].index:\n",
    "        if corr_threshold < abs(corr_matrix.loc[row, col]) < 1.0:\n",
    "            pair = f'{row}-{col}'\n",
    "            correlated_features[pair] = corr_matrix.loc[row, col]\n",
    "\n",
    "display(correlated_features)"
   ]
  },
  {
   "cell_type": "markdown",
   "metadata": {},
   "source": [
    "Существует 4 пары признаков, корелляционно связанных. Однако вследствие того, что для обучения будет использоваться в общем случае нелинейная модель (ИНС), а также за счет регуляризации (Dropout) - удаляться данные признаки здесь не будут.  \n",
    "Далее будет проверены главные компоненты и кластерный анализ"
   ]
  },
  {
   "cell_type": "code",
   "execution_count": 10,
   "metadata": {},
   "outputs": [],
   "source": [
    "# маштабирование\n",
    "from sklearn.preprocessing import MinMaxScaler\n",
    "scaler = MinMaxScaler()\n",
    "\n",
    "X_train_scaled = scaler.fit_transform(X_train_df)\n",
    "X_train_scaled = pd.DataFrame(data = X_train_scaled, columns=X_train_df.columns)\n",
    "\n",
    "X_test_scaled = scaler.transform(X_test_df)\n",
    "X_test_scaled = pd.DataFrame(data = X_test_scaled, columns=X_test_df.columns)"
   ]
  },
  {
   "cell_type": "code",
   "execution_count": 13,
   "metadata": {},
   "outputs": [
    {
     "name": "stdout",
     "output_type": "stream",
     "text": [
      "required number of components for 80.0% of total VAR is 6\n",
      "required number of components for 90.0% of total VAR is 9\n",
      "required number of components for 95.0% of total VAR is 12\n",
      "required number of components for 97.5% of total VAR is 14\n",
      "required number of components for 99.0% of total VAR is 17\n"
     ]
    }
   ],
   "source": [
    "# воспользуемся методом главных компонент\n",
    "from sklearn.decomposition import PCA\n",
    "break_even = [0.8, 0.9, 0.95, 0.975, 0.99]\n",
    "\n",
    "pca = PCA()\n",
    "X_train_pca = pca.fit_transform(X_train_scaled)\n",
    "var_vector = np.cumsum(pca.explained_variance_ratio_)\n",
    "\n",
    "for level in break_even:\n",
    "    temp_list = []\n",
    "    for n in var_vector:\n",
    "        if n<=level: temp_list.append(n)\n",
    "    print(f'required number of components for {level*100}% of total VAR is {len(temp_list)}')  "
   ]
  },
  {
   "cell_type": "markdown",
   "metadata": {},
   "source": [
    "Исходя из выводов РСА - удаление 3 признаков сохраняет 99% вариации, что соответствует выводам корелляции. \n",
    "Вследствие того, что в целом пространство признаков небольшое, преобразование далее осуществляться не будет"
   ]
  },
  {
   "cell_type": "code",
   "execution_count": 17,
   "metadata": {},
   "outputs": [
    {
     "data": {
      "image/png": "[encoded data removed]",
      "text/plain": [
       "<Figure size 432x288 with 1 Axes>"
      ]
     },
     "metadata": {
      "needs_background": "light"
     },
     "output_type": "display_data"
    },
    {
     "name": "stdout",
     "output_type": "stream",
     "text": [
      "Silhouette Score for 3 clusters is 0.42496\n"
     ]
    }
   ],
   "source": [
    "# проверим KNN\n",
    "\n",
    "from sklearn.cluster import KMeans\n",
    "from sklearn.metrics import silhouette_score, calinski_harabasz_score\n",
    "\n",
    "n_cluster_list, calinski_metric_list = [], []\n",
    "\n",
    "for n_cluster in range(3,10):\n",
    "    n_cluster_list.append(n_cluster)\n",
    "    k_means = KMeans(n_clusters=n_cluster, random_state=37, init='k-means++')\n",
    "    k_means.fit(X_train_scaled)\n",
    "    calinski_metric_list.append(calinski_harabasz_score(X_train_scaled, k_means.labels_))\n",
    "    \n",
    "plt.plot(n_cluster_list, calinski_metric_list)\n",
    "plt.xlabel('number of clusters')\n",
    "plt.ylabel('variance ratio')\n",
    "plt.title('Elbow Plot')\n",
    "plt.show()\n",
    "\n",
    "k_means_optimal = KMeans(n_clusters=4, random_state=37, init='k-means++')\n",
    "k_means_optimal.fit(X_train_scaled)\n",
    "silhouette_avg = silhouette_score(X_train_scaled, k_means.labels_)\n",
    "print(f'Silhouette Score for 3 clusters is {round(silhouette_avg,5)}')\n"
   ]
  },
  {
   "cell_type": "markdown",
   "metadata": {},
   "source": [
    "Оптимальное количество кластеров = 4, однако метрика Silhouette Score (=0.41) - далека от 1, поэтому генерация производных признаков на основе кластеров осуществляться не будет"
   ]
  },
  {
   "cell_type": "code",
   "execution_count": 20,
   "metadata": {},
   "outputs": [
    {
     "data": {
      "text/plain": [
       "((404, 13), (404, 20), (102, 13), (102, 20))"
      ]
     },
     "execution_count": 20,
     "metadata": {},
     "output_type": "execute_result"
    }
   ],
   "source": [
    "# Вернем в numpy\n",
    "X_train_nn = X_train_scaled.to_numpy()\n",
    "X_test_nn = X_test_scaled.to_numpy()\n",
    "\n",
    "X_train.shape, X_train_nn.shape, X_test.shape, X_test_nn.shape, "
   ]
  },
  {
   "cell_type": "markdown",
   "metadata": {},
   "source": [
    "#### Функции ####"
   ]
  },
  {
   "cell_type": "code",
   "execution_count": 18,
   "metadata": {},
   "outputs": [],
   "source": [
    "# Функции\n",
    "from tensorflow.keras.models import Model\n",
    "\n",
    "def model_compiler(layers_list, compile_params,  display_model=True, func_style=True):\n",
    "    compile_params_keys = list(compile_params.keys())\n",
    "    \n",
    "    if len( set(compile_params_keys) - set(['optimizer', 'loss', 'metrics']) ) > 0:\n",
    "        raise KeyError('incorrect compile params name')\n",
    "    \n",
    "    model = Sequential()\n",
    "    \n",
    "    if not func_style:\n",
    "        for layer in layers_list:\n",
    "            model.add(layer)\n",
    "    else:\n",
    "        model = Model(layers_list[0], layers_list[-1])\n",
    "    \n",
    "    optimizer = compile_params['optimizer']\n",
    "    loss = compile_params['loss']\n",
    "    metrics = compile_params['metrics']\n",
    "    \n",
    "    model.compile(optimizer=optimizer, loss=loss, metrics=metrics)\n",
    "\n",
    "    if display_model:\n",
    "        model.summary()\n",
    "\n",
    "    return model\n",
    "\n",
    "# в качестве одной из метрик будет использоваться R2\n",
    "def r2(y_true, y_pred):\n",
    "    SS_res =  K.sum(K.square( y_true-y_pred ))\n",
    "    SS_tot = K.sum(K.square( y_true - K.mean(y_true) ) )\n",
    "    return ( 1 - SS_res/(SS_tot + K.epsilon()) )\n",
    "\n",
    "\n",
    "def model_fit_valid(model, X , y, n_epochs=10, batch_size=32, \n",
    "                      validation_split=0.15, use_early_stopping=False, verbose_mode=0, show_chart=True):\n",
    "    \n",
    "    if use_early_stopping:\n",
    "        es = EarlyStopping(monitor='val_loss', mode='min', verbose=1, patience=0.15*n_epochs)\n",
    "        callbacks = [es]\n",
    "    else:\n",
    "        callbacks = None\n",
    "    \n",
    "    start_time = time.time()\n",
    "    history = model.fit(x=X, y=y, epochs=n_epochs, batch_size=batch_size, \n",
    "                        validation_split=validation_split, shuffle=True, verbose=verbose_mode,\n",
    "                        callbacks=callbacks)\n",
    "    \n",
    "    if show_chart:\n",
    "        fig = plt.figure(figsize=(10, 4))\n",
    "        plt.plot(history.history['loss'], label='train')\n",
    "        plt.plot(history.history['val_loss'], label='valid')\n",
    "        plt.legend()\n",
    "        plt.show()\n",
    "    \n",
    "    best_idx = np.array(history.history['val_loss']).argmin()\n",
    "    optimal_epoch_number = history.epoch[best_idx] + 1\n",
    "    \n",
    "    best_val_mape = history.history['val_mean_absolute_percentage_error'][best_idx]\n",
    "    best_val_r2 = history.history['val_r2'][best_idx]\n",
    "    \n",
    "    best_val_loss = history.history['val_loss'][best_idx]\n",
    "    best_tr_mape = history.history['mean_absolute_percentage_error'][best_idx]\n",
    "    best_tr_r2 = history.history['r2'][best_idx]\n",
    "    \n",
    "    \n",
    "    print(f'optimal epoch number: {optimal_epoch_number}')\n",
    "    print('params on optimal epoch:')\n",
    "    print(f'mape on valid: {best_val_mape:.4f}, on train: {best_tr_mape:.4f}')\n",
    "    print(f'r2 on valid: {best_val_r2:.4f}, on train: {best_tr_r2:.4f}')\n",
    "    print(f'best val loss: {best_val_loss}')\n",
    "    print(f'refit finished in {(time.time()-start_time):1f} sec')\n",
    "          \n",
    "    return model\n",
    "\n",
    "def model_predict(model, X_train_nn, y_train, X_test_nn, y_test, n_epochs=10, \n",
    "                batch_size=32, refit_model_on_full_data=True, verbose_refit=0):\n",
    "    \n",
    "    if refit_model_on_full_data:\n",
    "        start_time = time.time()\n",
    "        print('refit on full train (99%) dataset activated')\n",
    "        model.fit(x=X_train_nn, y=y_train, epochs=n_epochs, batch_size=batch_size, validation_split=0.01,\n",
    "                 verbose=verbose_refit)\n",
    "        print(f'refit succeed in {(time.time()-start_time):.1f} sec')\n",
    "        print()\n",
    "    \n",
    "    start_time = time.time()\n",
    "    predict = model.predict(X_test_nn)\n",
    "    print(f'predict generated in {(time.time()-start_time):.1f} sec')\n",
    "    print(f'r2 on test dataset: {r2_score(y_test, predict):.4f}')   \n",
    "        \n",
    "    return predict"
   ]
  },
  {
   "cell_type": "code",
   "execution_count": 21,
   "metadata": {},
   "outputs": [
    {
     "name": "stdout",
     "output_type": "stream",
     "text": [
      "Model: \"sequential_1\"\n",
      "_________________________________________________________________\n",
      " Layer (type)                Output Shape              Param #   \n",
      "=================================================================\n",
      " dense_3 (Dense)             (None, 20)                420       \n",
      "                                                                 \n",
      " dropout_1 (Dropout)         (None, 20)                0         \n",
      "                                                                 \n",
      " dense_4 (Dense)             (None, 5)                 105       \n",
      "                                                                 \n",
      " dense_5 (Dense)             (None, 1)                 6         \n",
      "                                                                 \n",
      "=================================================================\n",
      "Total params: 531\n",
      "Trainable params: 531\n",
      "Non-trainable params: 0\n",
      "_________________________________________________________________\n"
     ]
    },
    {
     "data": {
      "image/png": "[encoded data removed]",
      "text/plain": [
       "<Figure size 720x288 with 1 Axes>"
      ]
     },
     "metadata": {
      "needs_background": "light"
     },
     "output_type": "display_data"
    },
    {
     "name": "stdout",
     "output_type": "stream",
     "text": [
      "optimal epoch number: 100\n",
      "params on optimal epoch:\n",
      "mape on valid: 18.4816, on train: 25.4083\n",
      "r2 on valid: 0.6043, on train: 0.2844\n",
      "best val loss: 18.640518188476562\n",
      "refit finished in 12.645171 sec\n",
      "refit on full train (99%) dataset activated\n",
      "refit succeed in 11.7 sec\n",
      "\n",
      "predict generated in 0.2 sec\n",
      "r2 on test dataset: 0.6621\n"
     ]
    }
   ],
   "source": [
    "#  Тестовый прогон функций\n",
    "\n",
    "x_input = keras.layers.Input(shape=(20))\n",
    "x_2 = keras.layers.Dense(20, activation='sigmoid')\n",
    "x_3 = keras.layers.Dropout(0.2)\n",
    "x_4 = keras.layers.Dense(5, activation='relu')\n",
    "x_out = keras.layers.Dense(1, activation='linear')\n",
    "\n",
    "sequence = [x_input, x_2, x_3, x_4, x_out]\n",
    "\n",
    "comp_params = {\n",
    "    'loss': 'mse',\n",
    "    'optimizer': 'adam',\n",
    "    'metrics': ['mean_absolute_percentage_error', r2]\n",
    "}\n",
    "\n",
    "\n",
    "model = model_compiler(sequence, comp_params,  display_model=True, func_style=False)\n",
    "\n",
    "model = model_fit_valid(model, X_train_nn , y_train, n_epochs=100, batch_size=32, \n",
    "                      validation_split=0.1, use_early_stopping=False, verbose_mode=0, show_chart=True)\n",
    "\n",
    "pred = model_predict(model, X_train_nn, y_train, X_test_nn, y_test, n_epochs=100, batch_size=32, \n",
    "                   refit_model_on_full_data=True, verbose_refit=0)"
   ]
  },
  {
   "cell_type": "markdown",
   "metadata": {},
   "source": [
    "#### Подбор гиперпараметров"
   ]
  },
  {
   "cell_type": "markdown",
   "metadata": {},
   "source": [
    "- я буду использовать early stopping callback с 15% долей\n",
    "\n",
    "- поиск будет вестись с последовательным сужением пространства гиперпараметров\n",
    "  \n",
    "  - поиск оптимальной архитектуры (без учета Dropout), c использованием Relu и с небольшим числом нодов (32)\n",
    "    - 1 слой\n",
    "    - 2 слоя\n",
    "    - 3 слоя\n",
    "  - количество нодов\n",
    "  - выбор оптимальной активационной функции\n",
    "  - добавление dropout\n",
    "  - выбор batch size\n",
    "  - вариация алгоритмов оптимизации"
   ]
  },
  {
   "cell_type": "code",
   "execution_count": 22,
   "metadata": {},
   "outputs": [],
   "source": [
    "\n",
    "from tensorflow.keras.layers import Input, Dense, Dropout\n",
    "from tensorflow.keras.optimizers import Adam, Adagrad, RMSprop, SGD\n",
    "\n",
    "input_shape = (20)\n",
    "\n",
    "comp_params = {\n",
    "    'loss': 'mse',\n",
    "    'optimizer': 'adam',\n",
    "    'metrics': ['mean_absolute_percentage_error', r2]\n",
    "}"
   ]
  },
  {
   "cell_type": "markdown",
   "metadata": {},
   "source": [
    "##### Layers num"
   ]
  },
  {
   "cell_type": "code",
   "execution_count": 23,
   "metadata": {
    "scrolled": false
   },
   "outputs": [
    {
     "name": "stdout",
     "output_type": "stream",
     "text": [
      "1-hidden layer\n",
      "--------------------------------------------------------------------------------\n",
      "Model: \"model\"\n",
      "_________________________________________________________________\n",
      " Layer (type)                Output Shape              Param #   \n",
      "=================================================================\n",
      " input_3 (InputLayer)        [(None, 20)]              0         \n",
      "                                                                 \n",
      " dense_6 (Dense)             (None, 40)                840       \n",
      "                                                                 \n",
      " dense_7 (Dense)             (None, 1)                 41        \n",
      "                                                                 \n",
      "=================================================================\n",
      "Total params: 881\n",
      "Trainable params: 881\n",
      "Non-trainable params: 0\n",
      "_________________________________________________________________\n"
     ]
    },
    {
     "data": {
      "image/png": "[encoded data removed]",
      "text/plain": [
       "<Figure size 720x288 with 1 Axes>"
      ]
     },
     "metadata": {
      "needs_background": "light"
     },
     "output_type": "display_data"
    },
    {
     "name": "stdout",
     "output_type": "stream",
     "text": [
      "optimal epoch number: 484\n",
      "params on optimal epoch:\n",
      "mape on valid: 17.6120, on train: 17.7276\n",
      "r2 on valid: 0.5541, on train: 0.7394\n",
      "best val loss: 25.32931900024414\n",
      "refit finished in 56.379520 sec\n",
      "********************************************************************************\n",
      "2-hidden layer\n",
      "--------------------------------------------------------------------------------\n",
      "Model: \"model_1\"\n",
      "_________________________________________________________________\n",
      " Layer (type)                Output Shape              Param #   \n",
      "=================================================================\n",
      " input_4 (InputLayer)        [(None, 20)]              0         \n",
      "                                                                 \n",
      " dense_8 (Dense)             (None, 40)                840       \n",
      "                                                                 \n",
      " dense_9 (Dense)             (None, 20)                820       \n",
      "                                                                 \n",
      " dense_10 (Dense)            (None, 1)                 21        \n",
      "                                                                 \n",
      "=================================================================\n",
      "Total params: 1,681\n",
      "Trainable params: 1,681\n",
      "Non-trainable params: 0\n",
      "_________________________________________________________________\n"
     ]
    },
    {
     "data": {
      "image/png": "[encoded data removed]",
      "text/plain": [
       "<Figure size 720x288 with 1 Axes>"
      ]
     },
     "metadata": {
      "needs_background": "light"
     },
     "output_type": "display_data"
    },
    {
     "name": "stdout",
     "output_type": "stream",
     "text": [
      "optimal epoch number: 487\n",
      "params on optimal epoch:\n",
      "mape on valid: 10.3515, on train: 12.3394\n",
      "r2 on valid: 0.8424, on train: 0.8006\n",
      "best val loss: 10.043664932250977\n",
      "refit finished in 55.494998 sec\n",
      "********************************************************************************\n",
      "3-hidden layer\n",
      "--------------------------------------------------------------------------------\n",
      "Model: \"model_2\"\n",
      "_________________________________________________________________\n",
      " Layer (type)                Output Shape              Param #   \n",
      "=================================================================\n",
      " input_5 (InputLayer)        [(None, 20)]              0         \n",
      "                                                                 \n",
      " dense_11 (Dense)            (None, 40)                840       \n",
      "                                                                 \n",
      " dense_12 (Dense)            (None, 30)                1230      \n",
      "                                                                 \n",
      " dense_13 (Dense)            (None, 20)                620       \n",
      "                                                                 \n",
      " dense_14 (Dense)            (None, 1)                 21        \n",
      "                                                                 \n",
      "=================================================================\n",
      "Total params: 2,711\n",
      "Trainable params: 2,711\n",
      "Non-trainable params: 0\n",
      "_________________________________________________________________\n",
      "Epoch 00304: early stopping\n"
     ]
    },
    {
     "data": {
      "image/png": "[encoded data removed]",
      "text/plain": [
       "<Figure size 720x288 with 1 Axes>"
      ]
     },
     "metadata": {
      "needs_background": "light"
     },
     "output_type": "display_data"
    },
    {
     "name": "stdout",
     "output_type": "stream",
     "text": [
      "optimal epoch number: 229\n",
      "params on optimal epoch:\n",
      "mape on valid: 11.0757, on train: 11.5897\n",
      "r2 on valid: 0.8478, on train: 0.8710\n",
      "best val loss: 9.812139511108398\n",
      "refit finished in 34.431899 sec\n",
      "********************************************************************************\n",
      "4-hidden layer\n",
      "--------------------------------------------------------------------------------\n",
      "Model: \"model_3\"\n",
      "_________________________________________________________________\n",
      " Layer (type)                Output Shape              Param #   \n",
      "=================================================================\n",
      " input_6 (InputLayer)        [(None, 20)]              0         \n",
      "                                                                 \n",
      " dense_15 (Dense)            (None, 40)                840       \n",
      "                                                                 \n",
      " dense_16 (Dense)            (None, 30)                1230      \n",
      "                                                                 \n",
      " dense_17 (Dense)            (None, 20)                620       \n",
      "                                                                 \n",
      " dense_18 (Dense)            (None, 20)                420       \n",
      "                                                                 \n",
      " dense_19 (Dense)            (None, 1)                 21        \n",
      "                                                                 \n",
      "=================================================================\n",
      "Total params: 3,131\n",
      "Trainable params: 3,131\n",
      "Non-trainable params: 0\n",
      "_________________________________________________________________\n",
      "Epoch 00319: early stopping\n"
     ]
    },
    {
     "data": {
      "image/png": "[encoded data removed]",
      "text/plain": [
       "<Figure size 720x288 with 1 Axes>"
      ]
     },
     "metadata": {
      "needs_background": "light"
     },
     "output_type": "display_data"
    },
    {
     "name": "stdout",
     "output_type": "stream",
     "text": [
      "optimal epoch number: 244\n",
      "params on optimal epoch:\n",
      "mape on valid: 29.4815, on train: 36.6174\n",
      "r2 on valid: -0.1061, on train: -0.1272\n",
      "best val loss: 86.51010131835938\n",
      "refit finished in 37.941136 sec\n",
      "********************************************************************************\n"
     ]
    }
   ],
   "source": [
    "# 4.1.1. Подбор количества слоев\n",
    "\n",
    "# 1-layer case\n",
    "x_in = Input(input_shape)\n",
    "x_1 = Dense(40, activation='linear')(x_in)\n",
    "x_out = Dense(1, activation='linear')(x_1)\n",
    "layers_seq1 = [x_in, x_1, x_out] \n",
    "\n",
    "print('1-hidden layer')\n",
    "print(80*'-')\n",
    "model = model_compiler(layers_list=layers_seq1, compile_params=comp_params, display_model=True,\n",
    "                                     func_style=True)\n",
    "    \n",
    "model = model_fit_valid(model, X_train_nn, y_train, n_epochs=500, batch_size=32, validation_split=0.2, \n",
    "                      use_early_stopping=True, verbose_mode=0, show_chart=True)\n",
    "    \n",
    "print(80*'*')\n",
    "\n",
    "\n",
    "# 2-layer case\n",
    "x_in = Input(input_shape)\n",
    "x_1 = Dense(40, activation='linear')(x_in)\n",
    "x_2 = Dense(20, activation='relu')(x_1)\n",
    "x_out = Dense(1, activation='linear')(x_2)\n",
    "layers_seq2 = [x_in, x_1, x_2, x_out] \n",
    "\n",
    "print('2-hidden layer')\n",
    "print(80*'-')\n",
    "model = model_compiler(layers_list=layers_seq2, compile_params=comp_params, display_model=True,\n",
    "                                     func_style=True)\n",
    "    \n",
    "model = model_fit_valid(model, X_train_nn, y_train, n_epochs=500, batch_size=32, validation_split=0.2, \n",
    "                      use_early_stopping=True, verbose_mode=0, show_chart=True)\n",
    "    \n",
    "print(80*'*')\n",
    "\n",
    "\n",
    "# 3-layer case\n",
    "x_in = Input(input_shape)\n",
    "x_1 = Dense(40, activation='linear')(x_in)\n",
    "x_2 = Dense(30, activation='sigmoid')(x_1)\n",
    "x_3 = Dense(20, activation='relu')(x_2)\n",
    "x_out = Dense(1, activation='linear')(x_3)\n",
    "layers_seq3 = [x_in, x_1, x_2, x_3, x_out] \n",
    "\n",
    "print('3-hidden layer')\n",
    "print(80*'-')\n",
    "model = model_compiler(layers_list=layers_seq3, compile_params=comp_params, display_model=True,\n",
    "                                     func_style=True)\n",
    "    \n",
    "model = model_fit_valid(model, X_train_nn, y_train, n_epochs=500, batch_size=32, validation_split=0.2, \n",
    "                      use_early_stopping=True, verbose_mode=0, show_chart=True)\n",
    "    \n",
    "print(80*'*')\n",
    "\n",
    "\n",
    "# 4-layer case\n",
    "x_in = Input(input_shape)\n",
    "x_1 = Dense(40, activation='linear')(x_in)\n",
    "x_2 = Dense(30, activation='sigmoid')(x_1)\n",
    "x_3 = Dense(20, activation='relu')(x_2)\n",
    "x_4 = Dense(20, activation='tanh')(x_3)\n",
    "x_out = Dense(1, activation='linear')(x_4)\n",
    "layers_seq4 = [x_in, x_1, x_2, x_3, x_4, x_out] \n",
    "\n",
    "print('4-hidden layer')\n",
    "print(80*'-')\n",
    "model = model_compiler(layers_list=layers_seq4, compile_params=comp_params, display_model=True,\n",
    "                                     func_style=True)\n",
    "    \n",
    "model = model_fit_valid(model, X_train_nn, y_train, n_epochs=500, batch_size=32, validation_split=0.2, \n",
    "                      use_early_stopping=True, verbose_mode=0, show_chart=True)\n",
    "    \n",
    "print(80*'*')"
   ]
  },
  {
   "cell_type": "markdown",
   "metadata": {},
   "source": [
    "Наилучшие показатели у сети с двумя и тремя скрытыми слоями, возьмем наиболее простой вариант (2 слоя)"
   ]
  },
  {
   "cell_type": "markdown",
   "metadata": {},
   "source": [
    "##### Количество нейронов и активационная функция"
   ]
  },
  {
   "cell_type": "code",
   "execution_count": 24,
   "metadata": {
    "scrolled": false
   },
   "outputs": [
    {
     "name": "stdout",
     "output_type": "stream",
     "text": [
      "2-hidden layer: 20-20, Relu\n",
      "--------------------------------------------------------------------------------\n"
     ]
    },
    {
     "data": {
      "image/png": "[encoded data removed]",
      "text/plain": [
       "<Figure size 720x288 with 1 Axes>"
      ]
     },
     "metadata": {
      "needs_background": "light"
     },
     "output_type": "display_data"
    },
    {
     "name": "stdout",
     "output_type": "stream",
     "text": [
      "optimal epoch number: 493\n",
      "params on optimal epoch:\n",
      "mape on valid: 11.8189, on train: 12.6056\n",
      "r2 on valid: 0.8122, on train: 0.8154\n",
      "best val loss: 11.670415878295898\n",
      "refit finished in 61.458126 sec\n",
      "********************************************************************************\n",
      "2-hidden layer: 20-20, Sigmoid\n",
      "--------------------------------------------------------------------------------\n"
     ]
    },
    {
     "data": {
      "image/png": "[encoded data removed]",
      "text/plain": [
       "<Figure size 720x288 with 1 Axes>"
      ]
     },
     "metadata": {
      "needs_background": "light"
     },
     "output_type": "display_data"
    },
    {
     "name": "stdout",
     "output_type": "stream",
     "text": [
      "optimal epoch number: 439\n",
      "params on optimal epoch:\n",
      "mape on valid: 29.3702, on train: 36.4409\n",
      "r2 on valid: -0.1055, on train: -0.0407\n",
      "best val loss: 86.71149444580078\n",
      "refit finished in 59.122871 sec\n",
      "********************************************************************************\n",
      "2-hidden layer: 128-128, Relu\n",
      "--------------------------------------------------------------------------------\n",
      "Epoch 00269: early stopping\n"
     ]
    },
    {
     "data": {
      "image/png": "[encoded data removed]",
      "text/plain": [
       "<Figure size 720x288 with 1 Axes>"
      ]
     },
     "metadata": {
      "needs_background": "light"
     },
     "output_type": "display_data"
    },
    {
     "name": "stdout",
     "output_type": "stream",
     "text": [
      "optimal epoch number: 194\n",
      "params on optimal epoch:\n",
      "mape on valid: 11.0175, on train: 11.5928\n",
      "r2 on valid: 0.8312, on train: 0.7981\n",
      "best val loss: 10.405162811279297\n",
      "refit finished in 32.081278 sec\n",
      "********************************************************************************\n",
      "2-hidden layer: 128-128, Sigmoid\n",
      "--------------------------------------------------------------------------------\n",
      "Epoch 00476: early stopping\n"
     ]
    },
    {
     "data": {
      "image/png": "[encoded data removed]",
      "text/plain": [
       "<Figure size 720x288 with 1 Axes>"
      ]
     },
     "metadata": {
      "needs_background": "light"
     },
     "output_type": "display_data"
    },
    {
     "name": "stdout",
     "output_type": "stream",
     "text": [
      "optimal epoch number: 401\n",
      "params on optimal epoch:\n",
      "mape on valid: 10.5824, on train: 10.8814\n",
      "r2 on valid: 0.8437, on train: 0.8924\n",
      "best val loss: 9.826085090637207\n",
      "refit finished in 57.801555 sec\n",
      "********************************************************************************\n",
      "2-hidden layer: 256-128, Sigmoid\n",
      "--------------------------------------------------------------------------------\n",
      "Epoch 00463: early stopping\n"
     ]
    },
    {
     "data": {
      "image/png": "[encoded data removed]",
      "text/plain": [
       "<Figure size 720x288 with 1 Axes>"
      ]
     },
     "metadata": {
      "needs_background": "light"
     },
     "output_type": "display_data"
    },
    {
     "name": "stdout",
     "output_type": "stream",
     "text": [
      "optimal epoch number: 388\n",
      "params on optimal epoch:\n",
      "mape on valid: 10.5596, on train: 10.5787\n",
      "r2 on valid: 0.8395, on train: 0.8866\n",
      "best val loss: 9.883197784423828\n",
      "refit finished in 53.915107 sec\n",
      "********************************************************************************\n",
      "2-hidden layer: 256-256, Sigmoid\n",
      "--------------------------------------------------------------------------------\n",
      "Epoch 00315: early stopping\n"
     ]
    },
    {
     "data": {
      "image/png": "[encoded data removed]",
      "text/plain": [
       "<Figure size 720x288 with 1 Axes>"
      ]
     },
     "metadata": {
      "needs_background": "light"
     },
     "output_type": "display_data"
    },
    {
     "name": "stdout",
     "output_type": "stream",
     "text": [
      "optimal epoch number: 240\n",
      "params on optimal epoch:\n",
      "mape on valid: 10.8871, on train: 11.6305\n",
      "r2 on valid: 0.8416, on train: 0.8530\n",
      "best val loss: 9.901881217956543\n",
      "refit finished in 36.581876 sec\n",
      "********************************************************************************\n"
     ]
    }
   ],
   "source": [
    "# Подбор количества нейронов и актив.функции\n",
    "\n",
    "# вариант 1\n",
    "x_in = Input(input_shape)\n",
    "x_1 = Dense(20, activation='linear')(x_in)\n",
    "x_2 = Dense(20, activation='relu')(x_1)\n",
    "x_out = Dense(1, activation='linear')(x_2)\n",
    "layers_seq1 = [x_in, x_1, x_2, x_out] \n",
    "\n",
    "print('Вариант №1 - 2-hidden layer: 20-20, Relu')\n",
    "print(80*'-')\n",
    "model = model_compiler(layers_list=layers_seq1, compile_params=comp_params, display_model=False,\n",
    "                                     func_style=True)\n",
    "    \n",
    "model = model_fit_valid(model, X_train_nn, y_train, n_epochs=500, batch_size=32, validation_split=0.2, \n",
    "                      use_early_stopping=True, verbose_mode=0, show_chart=True)\n",
    "    \n",
    "print(80*'*')\n",
    "\n",
    "\n",
    "# вариант 2\n",
    "x_in = Input(input_shape)\n",
    "x_1 = Dense(20, activation='linear')(x_in)\n",
    "x_2 = Dense(20, activation='sigmoid')(x_1)\n",
    "x_out = Dense(1, activation='linear')(x_2)\n",
    "layers_seq2 = [x_in, x_1, x_2, x_out] \n",
    "\n",
    "print('Вариант №2 - 2-hidden layer: 20-20, Sigmoid')\n",
    "print(80*'-')\n",
    "model = model_compiler(layers_list=layers_seq2, compile_params=comp_params, display_model=False,\n",
    "                                     func_style=True)\n",
    "    \n",
    "model = model_fit_valid(model, X_train_nn, y_train, n_epochs=500, batch_size=32, validation_split=0.2, \n",
    "                      use_early_stopping=True, verbose_mode=0, show_chart=True)\n",
    "    \n",
    "print(80*'*')\n",
    "\n",
    "\n",
    "\n",
    "# вариант 3\n",
    "x_in = Input(input_shape)\n",
    "x_1 = Dense(128, activation='linear')(x_in)\n",
    "x_2 = Dense(128, activation='relu')(x_1)\n",
    "x_out = Dense(1, activation='linear')(x_2)\n",
    "layers_seq3 = [x_in, x_1, x_2, x_out] \n",
    "\n",
    "print('Вариант №3 - 2-hidden layer: 128-128, Relu')\n",
    "print(80*'-')\n",
    "model = model_compiler(layers_list=layers_seq3, compile_params=comp_params, display_model=False,\n",
    "                                     func_style=True)\n",
    "    \n",
    "model = model_fit_valid(model, X_train_nn, y_train, n_epochs=500, batch_size=32, validation_split=0.2, \n",
    "                      use_early_stopping=True, verbose_mode=0, show_chart=True)\n",
    "    \n",
    "print(80*'*')\n",
    "\n",
    "\n",
    "\n",
    "# вариант 4\n",
    "x_in = Input(input_shape)\n",
    "x_1 = Dense(128, activation='linear')(x_in)\n",
    "x_2 = Dense(128, activation='sigmoid')(x_1)\n",
    "x_out = Dense(1, activation='linear')(x_2)\n",
    "layers_seq4 = [x_in, x_1, x_2, x_out] \n",
    "\n",
    "print('Вариант №4 - 2-hidden layer: 128-128, Sigmoid')\n",
    "print(80*'-')\n",
    "model = model_compiler(layers_list=layers_seq4, compile_params=comp_params, display_model=False,\n",
    "                                     func_style=True)\n",
    "    \n",
    "model = model_fit_valid(model, X_train_nn, y_train, n_epochs=500, batch_size=32, validation_split=0.2, \n",
    "                      use_early_stopping=True, verbose_mode=0, show_chart=True)\n",
    "    \n",
    "print(80*'*')\n",
    "\n",
    "\n",
    "# вариант 5\n",
    "x_in = Input(input_shape)\n",
    "x_1 = Dense(256, activation='linear')(x_in)\n",
    "x_2 = Dense(128, activation='sigmoid')(x_1)\n",
    "x_out = Dense(1, activation='linear')(x_2)\n",
    "layers_seq5 = [x_in, x_1, x_2, x_out] \n",
    "\n",
    "print('Вариант №5 - 2-hidden layer: 256-128, Sigmoid')\n",
    "print(80*'-')\n",
    "model = model_compiler(layers_list=layers_seq5, compile_params=comp_params, display_model=False,\n",
    "                                     func_style=True)\n",
    "    \n",
    "model = model_fit_valid(model, X_train_nn, y_train, n_epochs=500, batch_size=32, validation_split=0.2, \n",
    "                      use_early_stopping=True, verbose_mode=0, show_chart=True)\n",
    "    \n",
    "print(80*'*')\n",
    "\n",
    "\n",
    "# вариант 6\n",
    "x_in = Input(input_shape)\n",
    "x_1 = Dense(256, activation='linear')(x_in)\n",
    "x_2 = Dense(256, activation='sigmoid')(x_1)\n",
    "x_out = Dense(1, activation='linear')(x_2)\n",
    "layers_seq6 = [x_in, x_1, x_2, x_out] \n",
    "\n",
    "print('Вариант №6 - 2-hidden layer: 256-256, Sigmoid')\n",
    "print(80*'-')\n",
    "model = model_compiler(layers_list=layers_seq6, compile_params=comp_params, display_model=False,\n",
    "                                     func_style=True)\n",
    "    \n",
    "model = model_fit_valid(model, X_train_nn, y_train, n_epochs=500, batch_size=32, validation_split=0.2, \n",
    "                      use_early_stopping=True, verbose_mode=0, show_chart=True)\n",
    "    \n",
    "print(80*'*')"
   ]
  },
  {
   "cell_type": "markdown",
   "metadata": {},
   "source": [
    "Выводы:\n",
    "- оптимальное количество нейронов - 128-128\n",
    "- оптимальная функция - Sigmoid\n",
    "- модель обучается за ~ 380 эпох"
   ]
  },
  {
   "cell_type": "markdown",
   "metadata": {},
   "source": [
    "##### Dropout (одна из полезных команд TensorFlow)"
   ]
  },
  {
   "cell_type": "code",
   "execution_count": 25,
   "metadata": {},
   "outputs": [
    {
     "name": "stdout",
     "output_type": "stream",
     "text": [
      "dropout rate: 0\n",
      "--------------------------------------------------------------------------------\n"
     ]
    },
    {
     "data": {
      "image/png": "[encoded data removed]",
      "text/plain": [
       "<Figure size 720x288 with 1 Axes>"
      ]
     },
     "metadata": {
      "needs_background": "light"
     },
     "output_type": "display_data"
    },
    {
     "name": "stdout",
     "output_type": "stream",
     "text": [
      "optimal epoch number: 468\n",
      "params on optimal epoch:\n",
      "mape on valid: 10.7417, on train: 10.5990\n",
      "r2 on valid: 0.8454, on train: 0.8986\n",
      "best val loss: 9.791488647460938\n",
      "refit finished in 56.307827 sec\n",
      "********************************************************************************\n",
      "dropout rate: 0.1\n",
      "--------------------------------------------------------------------------------\n",
      "Epoch 00407: early stopping\n"
     ]
    },
    {
     "data": {
      "image/png": "[encoded data removed]",
      "text/plain": [
       "<Figure size 720x288 with 1 Axes>"
      ]
     },
     "metadata": {
      "needs_background": "light"
     },
     "output_type": "display_data"
    },
    {
     "name": "stdout",
     "output_type": "stream",
     "text": [
      "optimal epoch number: 332\n",
      "params on optimal epoch:\n",
      "mape on valid: 10.8133, on train: 11.8559\n",
      "r2 on valid: 0.8438, on train: 0.8879\n",
      "best val loss: 9.778733253479004\n",
      "refit finished in 45.546868 sec\n",
      "********************************************************************************\n",
      "dropout rate: 0.2\n",
      "--------------------------------------------------------------------------------\n",
      "Epoch 00335: early stopping\n"
     ]
    },
    {
     "data": {
      "image/png": "[encoded data removed]",
      "text/plain": [
       "<Figure size 720x288 with 1 Axes>"
      ]
     },
     "metadata": {
      "needs_background": "light"
     },
     "output_type": "display_data"
    },
    {
     "name": "stdout",
     "output_type": "stream",
     "text": [
      "optimal epoch number: 260\n",
      "params on optimal epoch:\n",
      "mape on valid: 10.7909, on train: 12.3632\n",
      "r2 on valid: 0.8411, on train: 0.8421\n",
      "best val loss: 9.91823959350586\n",
      "refit finished in 38.082602 sec\n",
      "********************************************************************************\n",
      "dropout rate: 0.3\n",
      "--------------------------------------------------------------------------------\n",
      "Epoch 00463: early stopping\n"
     ]
    },
    {
     "data": {
      "image/png": "[encoded data removed]",
      "text/plain": [
       "<Figure size 720x288 with 1 Axes>"
      ]
     },
     "metadata": {
      "needs_background": "light"
     },
     "output_type": "display_data"
    },
    {
     "name": "stdout",
     "output_type": "stream",
     "text": [
      "optimal epoch number: 388\n",
      "params on optimal epoch:\n",
      "mape on valid: 10.7240, on train: 12.0116\n",
      "r2 on valid: 0.8455, on train: 0.8828\n",
      "best val loss: 9.698970794677734\n",
      "refit finished in 53.508925 sec\n",
      "********************************************************************************\n"
     ]
    }
   ],
   "source": [
    "# 3.3.1. 1 слой dropout\n",
    "dropout_rates = [0, 0.1, 0.2, 0.3]\n",
    "\n",
    "for d in dropout_rates:\n",
    "    x_in = Input(input_shape)\n",
    "    x_1 = Dense(128, activation='linear')(x_in)\n",
    "    x_d1 = Dropout(d)(x_1)\n",
    "    x_2 = Dense(128, activation='sigmoid')(x_d1)\n",
    "    x_out = Dense(1, activation='linear')(x_2)\n",
    "    layers_seq = [x_in, x_1, x_d1, x_2, x_out] \n",
    "\n",
    "    print(f'dropout rate: {d}')\n",
    "    print(80*'-')\n",
    "    model = model_compiler(layers_list=layers_seq, compile_params=comp_params, display_model=False,\n",
    "                                         func_style=True)\n",
    "\n",
    "    model = model_fit_valid(model, X_train_nn, y_train, n_epochs=500, batch_size=32, validation_split=0.2, \n",
    "                          use_early_stopping=True, verbose_mode=0, show_chart=True)\n",
    "\n",
    "    print(80*'*')\n",
    "    "
   ]
  },
  {
   "cell_type": "markdown",
   "metadata": {},
   "source": [
    "Особо dropout параметры не улучшает, поэтому на следующий этап модель будет без служебных слоев"
   ]
  },
  {
   "cell_type": "markdown",
   "metadata": {},
   "source": [
    "##### Batch Size"
   ]
  },
  {
   "cell_type": "code",
   "execution_count": null,
   "metadata": {
    "scrolled": false
   },
   "outputs": [],
   "source": [
    "batch_sizes = [16, 32, 64, 256]\n",
    "\n",
    "for bs in batch_sizes:\n",
    "    x_in = Input(input_shape)\n",
    "    x_1 = Dense(128, activation='linear')(x_in)\n",
    "    x_2 = Dense(128, activation='sigmoid')(x_1)\n",
    "    x_out = Dense(1, activation='linear')(x_2)\n",
    "    layers_seq = [x_in, x_1, x_2, x_out] \n",
    "\n",
    "    print(f'batch size: {bs}')\n",
    "    print(80*'-')\n",
    "    model = model_compiler(layers_list=layers_seq, compile_params=comp_params, display_model=False,\n",
    "                                         func_style=True)\n",
    "\n",
    "    model = model_fit_valid(model, X_train_nn, y_train, n_epochs=500, batch_size=bs, validation_split=0.2, \n",
    "                          use_early_stopping=True, verbose_mode=0, show_chart=True)\n",
    "\n",
    "    print(80*'*')"
   ]
  },
  {
   "cell_type": "markdown",
   "metadata": {},
   "source": [
    "##### Optimizer "
   ]
  },
  {
   "cell_type": "code",
   "execution_count": null,
   "metadata": {
    "scrolled": false
   },
   "outputs": [],
   "source": [
    "\n",
    "comp_params_1 = {\n",
    "    'loss': 'mse',\n",
    "    'optimizer': Adam(),\n",
    "    'metrics': ['mean_absolute_percentage_error', r2]\n",
    "}\n",
    "\n",
    "comp_params_2 = {\n",
    "    'loss': 'mse',\n",
    "    'optimizer': Adagrad(),\n",
    "    'metrics': ['mean_absolute_percentage_error', r2]\n",
    "}\n",
    "\n",
    "comp_params_3 = {\n",
    "    'loss': 'mse',\n",
    "    'optimizer': RMSprop(),\n",
    "    'metrics': ['mean_absolute_percentage_error', r2]\n",
    "}\n",
    "\n",
    "comp_params_4 = {\n",
    "    'loss': 'mse',\n",
    "    'optimizer': SGD(),\n",
    "    'metrics': ['mean_absolute_percentage_error', r2]\n",
    "}\n",
    "\n",
    "\n",
    "\n",
    "optimizers = [comp_params_1, comp_params_2, comp_params_3, comp_params_4]\n",
    "\n",
    "for params in optimizers:\n",
    "    x_in = Input(input_shape)\n",
    "    x_1 = Dense(128, activation='linear')(x_in)\n",
    "    x_2 = Dense(128, activation='sigmoid')(x_1)\n",
    "    x_out = Dense(1, activation='linear')(x_2)\n",
    "    layers_seq = [x_in, x_1, x_2, x_out] \n",
    "\n",
    "    print(f'optimizer: {params[\"optimizer\"]}')\n",
    "    print(80*'-')\n",
    "    model = model_compiler(layers_list=layers_seq, compile_params=params, display_model=False,\n",
    "                                         func_style=True)\n",
    "\n",
    "    model = model_fit_valid(model, X_train_nn, y_train, n_epochs=1000, batch_size=64, validation_split=0.2, \n",
    "                          use_early_stopping=True, verbose_mode=0, show_chart=True)\n",
    "\n",
    "    print(80*'*')"
   ]
  },
  {
   "cell_type": "markdown",
   "metadata": {},
   "source": [
    "Лучший Adam"
   ]
  },
  {
   "cell_type": "code",
   "execution_count": null,
   "metadata": {
    "scrolled": false
   },
   "outputs": [],
   "source": [
    "# Шаги\n",
    "lr_list = [0.01, 0.001, 0.0001]\n",
    "epsilon_list = [1e-5, 1e-7, 1e-9]\n",
    "\n",
    "grid = list(itertools.product(lr_list, epsilon_list))\n",
    "\n",
    "for comb in grid:\n",
    "    lr = comb[0]\n",
    "    eps = comb[1]\n",
    "    comp_params_ = {\n",
    "                    'loss': 'mse',\n",
    "                    'optimizer': Adam(learning_rate=lr, epsilon=eps),\n",
    "                    'metrics': ['mean_absolute_percentage_error', r2]\n",
    "                    }\n",
    "\n",
    "    x_in = Input(input_shape)\n",
    "    x_1 = Dense(128, activation='linear')(x_in)\n",
    "    x_2 = Dense(128, activation='sigmoid')(x_1)\n",
    "    x_out = Dense(1, activation='linear')(x_2)\n",
    "    layers_seq = [x_in, x_1, x_2, x_out] \n",
    "\n",
    "    print(f'lr: {lr}, epsilon: {eps}')\n",
    "    print(80*'-')\n",
    "    model = model_compiler(layers_list=layers_seq, compile_params=comp_params_, \n",
    "                                                          display_model=False, func_style=True)\n",
    "\n",
    "    model = model_fit_valid(model, X_train_nn, y_train, n_epochs=1000, batch_size=64, \n",
    "                                               validation_split=0.2, use_early_stopping=True, verbose_mode=0, \n",
    "                                               show_chart=True)\n",
    "\n",
    "    print(80*'*')"
   ]
  },
  {
   "cell_type": "markdown",
   "metadata": {},
   "source": [
    "Выводы по подбору параметров\n",
    "- оптимальная архитектура: FC(128, linear) - FC(128, sigmoid) - FC(1, linear)\n",
    "- размер батча: 64\n",
    "- существенный прирост по метрике аккуратности достигнут был (с 50 до 85%)\n",
    "- оптимальный оптимизатор - ADAM(lr=0.01, epsilon=1e-5)"
   ]
  },
  {
   "cell_type": "markdown",
   "metadata": {},
   "source": [
    "#### Обучение финальной модели и валидация на тестовой выборке"
   ]
  },
  {
   "cell_type": "code",
   "execution_count": null,
   "metadata": {
    "scrolled": false
   },
   "outputs": [],
   "source": [
    "comp_params_opt = {\n",
    "                    'loss': 'mse',\n",
    "                    'optimizer': Adam(learning_rate=0.01, epsilon=1e-5),\n",
    "                    'metrics': ['mean_absolute_percentage_error', r2]\n",
    "                    }\n",
    "\n",
    "x_in = Input(input_shape)\n",
    "x_1 = Dense(128, activation='linear')(x_in)\n",
    "x_2 = Dense(128, activation='sigmoid')(x_1)\n",
    "x_out = Dense(1, activation='linear')(x_2)\n",
    "layers_opt = [x_in, x_1, x_2, x_out] \n",
    "\n",
    "\n",
    "\n",
    "model = model_compiler(layers_list=layers_opt, compile_params=comp_params_opt, display_model=False,\n",
    "                                     func_style=True)\n",
    "\n",
    "predict = model_predict(model, X_train_nn, y_train, X_test_nn, y_test, n_epochs=450, batch_size=64, \n",
    "                      refit_model_on_full_data=True, verbose_refit=0)"
   ]
  }
 ],
 "metadata": {
  "kernelspec": {
   "display_name": "Python 3 (ipykernel)",
   "language": "python",
   "name": "python3"
  },
  "language_info": {
   "codemirror_mode": {
    "name": "ipython",
    "version": 3
   },
   "file_extension": ".py",
   "mimetype": "text/x-python",
   "name": "python",
   "nbconvert_exporter": "python",
   "pygments_lexer": "ipython3",
   "version": "3.8.11"
  },
  "toc": {
   "base_numbering": 1,
   "nav_menu": {},
   "number_sections": true,
   "sideBar": true,
   "skip_h1_title": true,
   "title_cell": "Table of Contents",
   "title_sidebar": "Contents",
   "toc_cell": true,
   "toc_position": {
    "height": "calc(100% - 180px)",
    "left": "10px",
    "top": "150px",
    "width": "292.714px"
   },
   "toc_section_display": true,
   "toc_window_display": true
  },
  "varInspector": {
   "cols": {
    "lenName": 16,
    "lenType": 16,
    "lenVar": 40
   },
   "kernels_config": {
    "python": {
     "delete_cmd_postfix": "",
     "delete_cmd_prefix": "del ",
     "library": "var_list.py",
     "varRefreshCmd": "print(var_dic_list())"
    },
    "r": {
     "delete_cmd_postfix": ") ",
     "delete_cmd_prefix": "rm(",
     "library": "var_list.r",
     "varRefreshCmd": "cat(var_dic_list()) "
    }
   },
   "types_to_exclude": [
    "module",
    "function",
    "builtin_function_or_method",
    "instance",
    "_Feature"
   ],
   "window_display": false
  }
 },
 "nbformat": 4,
 "nbformat_minor": 2
}
