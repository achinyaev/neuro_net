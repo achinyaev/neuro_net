{
 "cells": [
  {
   "cell_type": "code",
   "execution_count": 1,
   "id": "290933b3",
   "metadata": {
    "scrolled": true
   },
   "outputs": [],
   "source": [
    "import numpy as np\n",
    "#import mnist\n",
    "import keras\n",
    "from keras.datasets import mnist, boston_housing, fashion_mnist\n",
    "from keras import Sequential\n",
    "from keras.layers import Dense\n",
    "from tensorflow.keras.utils import to_categorical\n",
    "\n",
    "\n",
    "import matplotlib.pyplot as plt\n"
   ]
  },
  {
   "cell_type": "code",
   "execution_count": 2,
   "id": "f1319b01",
   "metadata": {},
   "outputs": [
    {
     "data": {
      "text/plain": [
       "'tensorflow'"
      ]
     },
     "execution_count": 2,
     "metadata": {},
     "output_type": "execute_result"
    }
   ],
   "source": [
    "keras.backend.backend()"
   ]
  },
  {
   "cell_type": "code",
   "execution_count": 3,
   "id": "bc71ab61",
   "metadata": {},
   "outputs": [],
   "source": [
    "(train_imagesi,train_labels),(test_imagesi,test_labels)=mnist.load_data()"
   ]
  },
  {
   "cell_type": "code",
   "execution_count": 4,
   "id": "eb202940",
   "metadata": {},
   "outputs": [
    {
     "name": "stdout",
     "output_type": "stream",
     "text": [
      "(60000, 28, 28)\n",
      "(60000,)\n",
      "(10000, 28, 28)\n",
      "(10000,)\n"
     ]
    }
   ],
   "source": [
    "print(train_imagesi.shape) # (60000, 28, 28)\n",
    "print(train_labels.shape) # (60000,)\n",
    "print(test_imagesi.shape) # (60000, 28, 28)\n",
    "print(test_labels.shape) # (60000,)"
   ]
  },
  {
   "cell_type": "code",
   "execution_count": 5,
   "id": "2974bf2b",
   "metadata": {},
   "outputs": [
    {
     "data": {
      "image/png": "[encoded data removed]",
      "text/plain": [
       "<Figure size 432x288 with 1 Axes>"
      ]
     },
     "metadata": {
      "needs_background": "light"
     },
     "output_type": "display_data"
    },
    {
     "name": "stdout",
     "output_type": "stream",
     "text": [
      "5\n"
     ]
    },
    {
     "data": {
      "image/png": "[encoded data removed]",
      "text/plain": [
       "<Figure size 432x288 with 1 Axes>"
      ]
     },
     "metadata": {
      "needs_background": "light"
     },
     "output_type": "display_data"
    },
    {
     "name": "stdout",
     "output_type": "stream",
     "text": [
      "0\n"
     ]
    },
    {
     "data": {
      "image/png": "[encoded data removed]",
      "text/plain": [
       "<Figure size 432x288 with 1 Axes>"
      ]
     },
     "metadata": {
      "needs_background": "light"
     },
     "output_type": "display_data"
    },
    {
     "name": "stdout",
     "output_type": "stream",
     "text": [
      "4\n"
     ]
    },
    {
     "data": {
      "image/png": "[encoded data removed]",
      "text/plain": [
       "<Figure size 432x288 with 1 Axes>"
      ]
     },
     "metadata": {
      "needs_background": "light"
     },
     "output_type": "display_data"
    },
    {
     "name": "stdout",
     "output_type": "stream",
     "text": [
      "1\n"
     ]
    },
    {
     "data": {
      "image/png": "[encoded data removed]",
      "text/plain": [
       "<Figure size 432x288 with 1 Axes>"
      ]
     },
     "metadata": {
      "needs_background": "light"
     },
     "output_type": "display_data"
    },
    {
     "name": "stdout",
     "output_type": "stream",
     "text": [
      "9\n"
     ]
    }
   ],
   "source": [
    "for i in range(5):\n",
    "    plt.imshow(train_imagesi[i,:,:])\n",
    "    plt.show()\n",
    "    print(train_labels[i])"
   ]
  },
  {
   "cell_type": "code",
   "execution_count": 6,
   "id": "c2833d8d",
   "metadata": {},
   "outputs": [
    {
     "data": {
      "text/plain": [
       "array([5, 0, 4, 1, 9], dtype=uint8)"
      ]
     },
     "execution_count": 6,
     "metadata": {},
     "output_type": "execute_result"
    }
   ],
   "source": [
    "train_labels[:5]"
   ]
  },
  {
   "cell_type": "code",
   "execution_count": 7,
   "id": "40f1398f",
   "metadata": {},
   "outputs": [
    {
     "name": "stdout",
     "output_type": "stream",
     "text": [
      "(60000, 784)\n",
      "(60000,)\n"
     ]
    }
   ],
   "source": [
    "# Normalize the images.\n",
    "train_imagesi = (train_imagesi / 127) - 1\n",
    "test_imagesi = (test_imagesi / 127) - 1\n",
    "\n",
    "\n",
    "# Flatten the images.\n",
    "train_images = train_imagesi.reshape((-1, 784))\n",
    "test_images = test_imagesi.reshape((-1, 784))\n",
    "\n",
    "print(train_images.shape) # (60000, 28, 28)\n",
    "print(train_labels.shape) # (60000,)"
   ]
  },
  {
   "cell_type": "code",
   "execution_count": 8,
   "id": "30e0c4d4",
   "metadata": {},
   "outputs": [
    {
     "data": {
      "text/plain": [
       "array([-1.        , -1.        , -1.        , -1.        , -1.        ,\n",
       "       -0.90551181, -0.80314961, -0.80314961, -0.80314961, -0.80314961])"
      ]
     },
     "execution_count": 8,
     "metadata": {},
     "output_type": "execute_result"
    }
   ],
   "source": [
    "train_images[202,150:160]"
   ]
  },
  {
   "cell_type": "code",
   "execution_count": 9,
   "id": "30046809",
   "metadata": {},
   "outputs": [],
   "source": [
    "model1 = Sequential(name='my_model')\n",
    "model1.add(Dense( 128, activation='relu', input_shape=(784,)))  \n",
    "# входной слой + поносвязный слой из 128 нейронов с активацией ReLU\n",
    "for k in range(2):\n",
    "  model1.add(Dense(10+(10-k)*10, activation='tanh')) \n",
    "  # Скрытый слой k из 10+(10-k)*10 нейронов с активацией tanh\n",
    "\n",
    "model1.add(Dense(10, activation='softmax')) \n",
    "# выходной слой из 10 нейронов (сколько классов, столько нейронов) + активация softmax"
   ]
  },
  {
   "cell_type": "code",
   "execution_count": 10,
   "id": "5e21b2b0",
   "metadata": {},
   "outputs": [
    {
     "name": "stdout",
     "output_type": "stream",
     "text": [
      "Model: \"my_model\"\n",
      "_________________________________________________________________\n",
      " Layer (type)                Output Shape              Param #   \n",
      "=================================================================\n",
      " dense (Dense)               (None, 128)               100480    \n",
      "                                                                 \n",
      " dense_1 (Dense)             (None, 110)               14190     \n",
      "                                                                 \n",
      " dense_2 (Dense)             (None, 100)               11100     \n",
      "                                                                 \n",
      " dense_3 (Dense)             (None, 10)                1010      \n",
      "                                                                 \n",
      "=================================================================\n",
      "Total params: 126,780\n",
      "Trainable params: 126,780\n",
      "Non-trainable params: 0\n",
      "_________________________________________________________________\n"
     ]
    }
   ],
   "source": [
    "model1.summary()"
   ]
  },
  {
   "cell_type": "code",
   "execution_count": 11,
   "id": "087b821e",
   "metadata": {},
   "outputs": [],
   "source": [
    "model1.compile(\n",
    "  optimizer='adam', # оптимизатор\n",
    "  loss=keras.losses.CategoricalCrossentropy(), # функция потерь\n",
    "  metrics=['accuracy'], # метрика\n",
    ") "
   ]
  },
  {
   "cell_type": "code",
   "execution_count": 12,
   "id": "cbffe84d",
   "metadata": {},
   "outputs": [
    {
     "name": "stdout",
     "output_type": "stream",
     "text": [
      "Model: \"my_model\"\n",
      "_________________________________________________________________\n",
      " Layer (type)                Output Shape              Param #   \n",
      "=================================================================\n",
      " dense (Dense)               (None, 128)               100480    \n",
      "                                                                 \n",
      " dense_1 (Dense)             (None, 110)               14190     \n",
      "                                                                 \n",
      " dense_2 (Dense)             (None, 100)               11100     \n",
      "                                                                 \n",
      " dense_3 (Dense)             (None, 10)                1010      \n",
      "                                                                 \n",
      "=================================================================\n",
      "Total params: 126,780\n",
      "Trainable params: 126,780\n",
      "Non-trainable params: 0\n",
      "_________________________________________________________________\n"
     ]
    }
   ],
   "source": [
    "model1.summary()"
   ]
  },
  {
   "cell_type": "code",
   "execution_count": 13,
   "id": "9b6916db",
   "metadata": {},
   "outputs": [
    {
     "data": {
      "text/plain": [
       "{'name': 'my_model',\n",
       " 'layers': [{'class_name': 'InputLayer',\n",
       "   'config': {'batch_input_shape': (None, 784),\n",
       "    'dtype': 'float32',\n",
       "    'sparse': False,\n",
       "    'ragged': False,\n",
       "    'name': 'dense_input'}},\n",
       "  {'class_name': 'Dense',\n",
       "   'config': {'name': 'dense',\n",
       "    'trainable': True,\n",
       "    'batch_input_shape': (None, 784),\n",
       "    'dtype': 'float32',\n",
       "    'units': 128,\n",
       "    'activation': 'relu',\n",
       "    'use_bias': True,\n",
       "    'kernel_initializer': {'class_name': 'GlorotUniform',\n",
       "     'config': {'seed': None}},\n",
       "    'bias_initializer': {'class_name': 'Zeros', 'config': {}},\n",
       "    'kernel_regularizer': None,\n",
       "    'bias_regularizer': None,\n",
       "    'activity_regularizer': None,\n",
       "    'kernel_constraint': None,\n",
       "    'bias_constraint': None}},\n",
       "  {'class_name': 'Dense',\n",
       "   'config': {'name': 'dense_1',\n",
       "    'trainable': True,\n",
       "    'dtype': 'float32',\n",
       "    'units': 110,\n",
       "    'activation': 'tanh',\n",
       "    'use_bias': True,\n",
       "    'kernel_initializer': {'class_name': 'GlorotUniform',\n",
       "     'config': {'seed': None}},\n",
       "    'bias_initializer': {'class_name': 'Zeros', 'config': {}},\n",
       "    'kernel_regularizer': None,\n",
       "    'bias_regularizer': None,\n",
       "    'activity_regularizer': None,\n",
       "    'kernel_constraint': None,\n",
       "    'bias_constraint': None}},\n",
       "  {'class_name': 'Dense',\n",
       "   'config': {'name': 'dense_2',\n",
       "    'trainable': True,\n",
       "    'dtype': 'float32',\n",
       "    'units': 100,\n",
       "    'activation': 'tanh',\n",
       "    'use_bias': True,\n",
       "    'kernel_initializer': {'class_name': 'GlorotUniform',\n",
       "     'config': {'seed': None}},\n",
       "    'bias_initializer': {'class_name': 'Zeros', 'config': {}},\n",
       "    'kernel_regularizer': None,\n",
       "    'bias_regularizer': None,\n",
       "    'activity_regularizer': None,\n",
       "    'kernel_constraint': None,\n",
       "    'bias_constraint': None}},\n",
       "  {'class_name': 'Dense',\n",
       "   'config': {'name': 'dense_3',\n",
       "    'trainable': True,\n",
       "    'dtype': 'float32',\n",
       "    'units': 10,\n",
       "    'activation': 'softmax',\n",
       "    'use_bias': True,\n",
       "    'kernel_initializer': {'class_name': 'GlorotUniform',\n",
       "     'config': {'seed': None}},\n",
       "    'bias_initializer': {'class_name': 'Zeros', 'config': {}},\n",
       "    'kernel_regularizer': None,\n",
       "    'bias_regularizer': None,\n",
       "    'activity_regularizer': None,\n",
       "    'kernel_constraint': None,\n",
       "    'bias_constraint': None}}]}"
      ]
     },
     "execution_count": 13,
     "metadata": {},
     "output_type": "execute_result"
    }
   ],
   "source": [
    "model1.get_config()"
   ]
  },
  {
   "cell_type": "code",
   "execution_count": 14,
   "id": "0019bde8",
   "metadata": {},
   "outputs": [
    {
     "data": {
      "text/plain": [
       "array([5, 0, 4, 1, 9], dtype=uint8)"
      ]
     },
     "execution_count": 14,
     "metadata": {},
     "output_type": "execute_result"
    }
   ],
   "source": [
    "train_labels[:5]"
   ]
  },
  {
   "cell_type": "code",
   "execution_count": 15,
   "id": "491fb10f",
   "metadata": {},
   "outputs": [],
   "source": [
    "y_train = to_categorical(train_labels)\n",
    "y_test = to_categorical(test_labels)"
   ]
  },
  {
   "cell_type": "code",
   "execution_count": 16,
   "id": "543cfe85",
   "metadata": {},
   "outputs": [
    {
     "data": {
      "text/plain": [
       "(array([[0., 0., 0., 0., 0., 1., 0., 0., 0., 0.],\n",
       "        [1., 0., 0., 0., 0., 0., 0., 0., 0., 0.],\n",
       "        [0., 0., 0., 0., 1., 0., 0., 0., 0., 0.],\n",
       "        [0., 1., 0., 0., 0., 0., 0., 0., 0., 0.],\n",
       "        [0., 0., 0., 0., 0., 0., 0., 0., 0., 1.]], dtype=float32),\n",
       " array([[0., 0., 0., 0., 0., 0., 0., 1., 0., 0.],\n",
       "        [0., 0., 1., 0., 0., 0., 0., 0., 0., 0.],\n",
       "        [0., 1., 0., 0., 0., 0., 0., 0., 0., 0.],\n",
       "        [1., 0., 0., 0., 0., 0., 0., 0., 0., 0.],\n",
       "        [0., 0., 0., 0., 1., 0., 0., 0., 0., 0.]], dtype=float32))"
      ]
     },
     "execution_count": 16,
     "metadata": {},
     "output_type": "execute_result"
    }
   ],
   "source": [
    "y_train[:5,:],y_test[:5,:]"
   ]
  },
  {
   "cell_type": "code",
   "execution_count": 17,
   "id": "7d3bf7a3",
   "metadata": {},
   "outputs": [],
   "source": [
    "y_pred = model1.predict(test_images[:5,:])\n"
   ]
  },
  {
   "cell_type": "code",
   "execution_count": 18,
   "id": "60d38b83",
   "metadata": {},
   "outputs": [
    {
     "data": {
      "text/plain": [
       "array([0.10831272, 0.08706849, 0.08487017, 0.05832193, 0.02641711,\n",
       "       0.08474386, 0.11092069, 0.29163325, 0.07249442, 0.0752173 ],\n",
       "      dtype=float32)"
      ]
     },
     "execution_count": 18,
     "metadata": {},
     "output_type": "execute_result"
    }
   ],
   "source": [
    "y_pred[0,:]"
   ]
  },
  {
   "cell_type": "code",
   "execution_count": 19,
   "id": "d34647cb",
   "metadata": {},
   "outputs": [
    {
     "name": "stdout",
     "output_type": "stream",
     "text": [
      "[7 5 2 1 7]\n"
     ]
    }
   ],
   "source": [
    "y_class = np.argmax(y_pred, axis=1)\n",
    "print(y_class) # [7, 2, 1, 0, 4]"
   ]
  },
  {
   "cell_type": "code",
   "execution_count": 20,
   "id": "92de63de",
   "metadata": {},
   "outputs": [
    {
     "data": {
      "text/plain": [
       "array([7, 2, 1, 0, 4], dtype=uint8)"
      ]
     },
     "execution_count": 20,
     "metadata": {},
     "output_type": "execute_result"
    }
   ],
   "source": [
    "test_labels[:5]"
   ]
  },
  {
   "cell_type": "code",
   "execution_count": 21,
   "id": "efc1ba63",
   "metadata": {},
   "outputs": [
    {
     "data": {
      "image/png": "[encoded data removed]",
      "text/plain": [
       "<Figure size 432x288 with 1 Axes>"
      ]
     },
     "metadata": {
      "needs_background": "light"
     },
     "output_type": "display_data"
    }
   ],
   "source": [
    "n = 3\n",
    "plt.imshow(test_imagesi[n,:,:])\n",
    "plt.title('цифра - '+str(y_class[n]))\n",
    "plt.show()"
   ]
  },
  {
   "cell_type": "code",
   "execution_count": 66,
   "id": "b8a51d9a",
   "metadata": {},
   "outputs": [
    {
     "name": "stdout",
     "output_type": "stream",
     "text": [
      "Epoch 1/15\n",
      "47/47 [==============================] - 1s 20ms/step - loss: 0.9008 - accuracy: 0.7408 - val_loss: 0.3612 - val_accuracy: 0.8998\n",
      "Epoch 2/15\n",
      "47/47 [==============================] - 1s 17ms/step - loss: 0.3151 - accuracy: 0.9095 - val_loss: 0.2507 - val_accuracy: 0.9276\n",
      "Epoch 3/15\n",
      "47/47 [==============================] - 1s 16ms/step - loss: 0.2340 - accuracy: 0.9321 - val_loss: 0.2013 - val_accuracy: 0.9422\n",
      "Epoch 4/15\n",
      "47/47 [==============================] - 1s 16ms/step - loss: 0.1885 - accuracy: 0.9449 - val_loss: 0.1677 - val_accuracy: 0.9506\n",
      "Epoch 5/15\n",
      "47/47 [==============================] - 1s 16ms/step - loss: 0.1540 - accuracy: 0.9544 - val_loss: 0.1499 - val_accuracy: 0.9575\n",
      "Epoch 6/15\n",
      "47/47 [==============================] - 1s 16ms/step - loss: 0.1300 - accuracy: 0.9619 - val_loss: 0.1418 - val_accuracy: 0.9578\n",
      "Epoch 7/15\n",
      "47/47 [==============================] - 1s 16ms/step - loss: 0.1175 - accuracy: 0.9640 - val_loss: 0.1198 - val_accuracy: 0.9640\n",
      "Epoch 8/15\n",
      "47/47 [==============================] - 1s 17ms/step - loss: 0.1010 - accuracy: 0.9698 - val_loss: 0.1274 - val_accuracy: 0.9632\n",
      "Epoch 9/15\n",
      "47/47 [==============================] - 1s 16ms/step - loss: 0.0914 - accuracy: 0.9728 - val_loss: 0.1117 - val_accuracy: 0.9671\n",
      "Epoch 10/15\n",
      "47/47 [==============================] - 1s 16ms/step - loss: 0.0780 - accuracy: 0.9771 - val_loss: 0.1077 - val_accuracy: 0.9679\n",
      "Epoch 11/15\n",
      "47/47 [==============================] - 1s 16ms/step - loss: 0.0733 - accuracy: 0.9779 - val_loss: 0.1011 - val_accuracy: 0.9699\n",
      "Epoch 12/15\n",
      "47/47 [==============================] - 1s 16ms/step - loss: 0.0640 - accuracy: 0.9813 - val_loss: 0.1010 - val_accuracy: 0.9698\n",
      "Epoch 13/15\n",
      "47/47 [==============================] - 1s 16ms/step - loss: 0.0566 - accuracy: 0.9841 - val_loss: 0.0935 - val_accuracy: 0.9733\n",
      "Epoch 14/15\n",
      "47/47 [==============================] - 1s 16ms/step - loss: 0.0505 - accuracy: 0.9856 - val_loss: 0.0931 - val_accuracy: 0.9720\n",
      "Epoch 15/15\n",
      "47/47 [==============================] - 1s 16ms/step - loss: 0.0472 - accuracy: 0.9869 - val_loss: 0.0921 - val_accuracy: 0.9728\n"
     ]
    },
    {
     "data": {
      "text/plain": [
       "<keras.callbacks.History at 0x26690b2d910>"
      ]
     },
     "execution_count": 66,
     "metadata": {},
     "output_type": "execute_result"
    }
   ],
   "source": [
    "# Train the model.\n",
    "model1.fit(  \n",
    "  train_images[:,:],\n",
    "  y_train[:,:],\n",
    "  epochs=15,\n",
    "  batch_size=1024, validation_split=0.2\n",
    ")"
   ]
  },
  {
   "cell_type": "code",
   "execution_count": 73,
   "id": "68411dde",
   "metadata": {},
   "outputs": [
    {
     "name": "stdout",
     "output_type": "stream",
     "text": [
      "313/313 [==============================] - 1s 2ms/step - loss: 0.0839 - accuracy: 0.9766\n",
      "Предсказанные - [7 2 1 0 4]\n",
      "Целевые - [7 2 1 0 4]\n"
     ]
    }
   ],
   "source": [
    "# Evaluate the model.\n",
    "model1.evaluate( \n",
    "  test_images,\n",
    "  y_test\n",
    ")\n",
    "\n",
    "# Predict on the first 5 test images.\n",
    "predictions = model1.predict(test_images[:5])\n",
    "\n",
    "# Print our model's predictions.\n",
    "print(f'Предсказанные - {np.argmax(predictions, axis=1)}') # [7, 2, 1, 0, 4]\n",
    "\n",
    "# Check our predictions against the ground truths.\n",
    "print(f'Целевые - {test_labels[:5]}') # [7, 2, 1, 0, 4]"
   ]
  },
  {
   "cell_type": "code",
   "execution_count": 70,
   "id": "3fe6225c",
   "metadata": {},
   "outputs": [
    {
     "name": "stdout",
     "output_type": "stream",
     "text": [
      "Epoch 1/15\n",
      "47/47 [==============================] - 1s 18ms/step - loss: 0.0417 - accuracy: 0.9880 - val_loss: 0.0913 - val_accuracy: 0.9727\n",
      "Epoch 2/15\n",
      "47/47 [==============================] - 1s 17ms/step - loss: 0.0402 - accuracy: 0.9885 - val_loss: 0.0921 - val_accuracy: 0.9730\n",
      "Epoch 3/15\n",
      "47/47 [==============================] - 1s 16ms/step - loss: 0.0353 - accuracy: 0.9903 - val_loss: 0.0867 - val_accuracy: 0.9745\n",
      "Epoch 4/15\n",
      "47/47 [==============================] - 1s 15ms/step - loss: 0.0296 - accuracy: 0.9920 - val_loss: 0.0862 - val_accuracy: 0.9738\n",
      "Epoch 5/15\n",
      "47/47 [==============================] - 1s 16ms/step - loss: 0.0280 - accuracy: 0.9930 - val_loss: 0.0865 - val_accuracy: 0.9748\n",
      "Epoch 6/15\n",
      "47/47 [==============================] - 1s 16ms/step - loss: 0.0259 - accuracy: 0.9933 - val_loss: 0.0851 - val_accuracy: 0.9761\n",
      "Epoch 7/15\n",
      "47/47 [==============================] - 1s 17ms/step - loss: 0.0230 - accuracy: 0.9945 - val_loss: 0.0926 - val_accuracy: 0.9745\n",
      "Epoch 8/15\n",
      "47/47 [==============================] - 1s 17ms/step - loss: 0.0244 - accuracy: 0.9939 - val_loss: 0.0962 - val_accuracy: 0.9728\n",
      "Epoch 9/15\n",
      "47/47 [==============================] - 1s 16ms/step - loss: 0.0227 - accuracy: 0.9937 - val_loss: 0.0883 - val_accuracy: 0.9758\n",
      "Epoch 10/15\n",
      "47/47 [==============================] - 1s 17ms/step - loss: 0.0165 - accuracy: 0.9962 - val_loss: 0.0874 - val_accuracy: 0.9752\n",
      "Epoch 11/15\n",
      "47/47 [==============================] - 1s 16ms/step - loss: 0.0156 - accuracy: 0.9965 - val_loss: 0.0893 - val_accuracy: 0.9746\n",
      "Epoch 12/15\n",
      "47/47 [==============================] - 1s 16ms/step - loss: 0.0136 - accuracy: 0.9974 - val_loss: 0.0854 - val_accuracy: 0.9768\n",
      "Epoch 13/15\n",
      "47/47 [==============================] - 1s 16ms/step - loss: 0.0107 - accuracy: 0.9986 - val_loss: 0.0902 - val_accuracy: 0.9754\n",
      "Epoch 14/15\n",
      "47/47 [==============================] - 1s 17ms/step - loss: 0.0104 - accuracy: 0.9983 - val_loss: 0.0949 - val_accuracy: 0.9755\n",
      "Epoch 15/15\n",
      "47/47 [==============================] - 1s 17ms/step - loss: 0.0100 - accuracy: 0.9981 - val_loss: 0.0892 - val_accuracy: 0.9762\n"
     ]
    }
   ],
   "source": [
    "hh = model1.fit(  \n",
    "  train_images[:,:],\n",
    "  y_train[:,:],\n",
    "  epochs=15,\n",
    "  batch_size=1024, validation_split=0.2\n",
    ")"
   ]
  },
  {
   "cell_type": "code",
   "execution_count": 71,
   "id": "9f403a67",
   "metadata": {},
   "outputs": [
    {
     "data": {
      "text/plain": [
       "{'loss': [0.0416734553873539,\n",
       "  0.04018092527985573,\n",
       "  0.03530747815966606,\n",
       "  0.029569249600172043,\n",
       "  0.02795691229403019,\n",
       "  0.02593947947025299,\n",
       "  0.022992484271526337,\n",
       "  0.024445943534374237,\n",
       "  0.02270941250026226,\n",
       "  0.01653122343122959,\n",
       "  0.015592136420309544,\n",
       "  0.013555373065173626,\n",
       "  0.01069906447082758,\n",
       "  0.010431090369820595,\n",
       "  0.010021032765507698],\n",
       " 'accuracy': [0.9879999756813049,\n",
       "  0.9884999990463257,\n",
       "  0.9903333187103271,\n",
       "  0.9919999837875366,\n",
       "  0.9929583072662354,\n",
       "  0.9932916760444641,\n",
       "  0.9944583177566528,\n",
       "  0.9938750267028809,\n",
       "  0.9937083125114441,\n",
       "  0.9961666464805603,\n",
       "  0.9965000152587891,\n",
       "  0.9974166750907898,\n",
       "  0.9986041784286499,\n",
       "  0.9983333349227905,\n",
       "  0.9981041550636292],\n",
       " 'val_loss': [0.0913337916135788,\n",
       "  0.0921131893992424,\n",
       "  0.08666335791349411,\n",
       "  0.08618377894163132,\n",
       "  0.0864550769329071,\n",
       "  0.08510205894708633,\n",
       "  0.09259641170501709,\n",
       "  0.09620165079832077,\n",
       "  0.08827860653400421,\n",
       "  0.08741723746061325,\n",
       "  0.08931554108858109,\n",
       "  0.08537131547927856,\n",
       "  0.09016011655330658,\n",
       "  0.09494908899068832,\n",
       "  0.08917640894651413],\n",
       " 'val_accuracy': [0.9726666808128357,\n",
       "  0.9729999899864197,\n",
       "  0.9745000004768372,\n",
       "  0.9738333225250244,\n",
       "  0.9748333096504211,\n",
       "  0.9760833382606506,\n",
       "  0.9745000004768372,\n",
       "  0.9728333353996277,\n",
       "  0.9757500290870667,\n",
       "  0.9751666784286499,\n",
       "  0.9745833277702332,\n",
       "  0.9768333435058594,\n",
       "  0.9754166603088379,\n",
       "  0.9754999876022339,\n",
       "  0.9762499928474426]}"
      ]
     },
     "execution_count": 71,
     "metadata": {},
     "output_type": "execute_result"
    }
   ],
   "source": [
    "hh.history"
   ]
  },
  {
   "cell_type": "code",
   "execution_count": 74,
   "id": "6514a4e4",
   "metadata": {},
   "outputs": [
    {
     "data": {
      "image/png": "[encoded data removed]",
      "text/plain": [
       "<Figure size 1080x504 with 1 Axes>"
      ]
     },
     "metadata": {
      "needs_background": "light"
     },
     "output_type": "display_data"
    }
   ],
   "source": [
    "plt.figure(figsize=(15,7))\n",
    "plt.plot(hh.history['loss'], label = 'потери для тренировки')\n",
    "plt.plot(hh.history['val_loss'], label = 'потери для валидации')\n",
    "plt.xlabel('эпох')\n",
    "plt.ylabel('loss')\n",
    "plt.legend()\n",
    "plt.grid('On')\n",
    "plt.title('потери от эпох')\n",
    "plt.show()"
   ]
  },
  {
   "cell_type": "markdown",
   "id": "6f4b7387",
   "metadata": {},
   "source": [
    "Эксперимент с разными оптимизаторами для одной начальной модели:\n",
    "\n",
    "  - создаем модель model\n",
    "  - сохраняем ее веса (это начальная точка) model.save_weights('model.h5')\n",
    "  - создаем рабочую модель modeli куда будем загружать эти вес (она должна быть идентичной структуры) \n",
    "  - загружаем веса modeli.load_weights('model.h5')\n",
    "  - компилируем modeli с одним из оптимизаторов\n",
    "  - вычисляем ошибку для modeli без обучения (т.к. все модели начинают с одной точки, то все ошибки должны быть одинаковые, но будем контролировать это и считаем каждый раз заново)\n",
    "  - проводим обучение модели и пишем ошибки в истории hh\n",
    "  - выводим ошибки для 0-го момента и каждой эпохи обучения по тестовой и валидационной частям данных\n",
    "\n",
    "\n",
    "\n",
    "Оптимизаторы:\n",
    "* SGD() (с или без моментум)\n",
    "* RMSprop()\n",
    "* Adam()\n",
    "* Adagrad()\n",
    "…\n"
   ]
  },
  {
   "cell_type": "code",
   "execution_count": 75,
   "id": "cb1a6911",
   "metadata": {},
   "outputs": [
    {
     "data": {
      "image/png": "[encoded data removed]",
      "text/plain": [
       "<Figure size 1152x504 with 1 Axes>"
      ]
     },
     "metadata": {
      "needs_background": "light"
     },
     "output_type": "display_data"
    }
   ],
   "source": [
    "# создаем модель model\n",
    "model = Sequential([\n",
    "                      Dense( 64, activation='relu', input_shape=(784,)),\n",
    "                      Dense(64, activation='tanh'),\n",
    "                      Dense(10, activation='softmax'),\n",
    "                      ])\n",
    "# сохраняем ее веса (это начальная точка) model.save_weights('model.h5')\n",
    "model.save_weights('model.h5')\n",
    "\n",
    "plt.figure(figsize=(16,7))\n",
    "\n",
    "# число рабочих эпох\n",
    "epochs = 15\n",
    "# вектор для выводв результатов\n",
    "epoch = np.arange(epochs+1)\n",
    "\n",
    "# будем изменять оптимизаторы\n",
    "\n",
    "#opt_list = [keras.optimizers.SGD( ),keras.optimizers.Adam( ),keras.optimizers.Nadam( )]\n",
    "for i_optim in ['SGD','RMSProp','adam','NAdam']:\n",
    "  # создаем рабочую модель modeli куда будем загружать эти вес (она должна быть идентичной структуры)\n",
    "  modeli = Sequential([\n",
    "                      Dense(64, activation='relu', input_shape=(784,)),\n",
    "                      Dense(64, activation='tanh'),\n",
    "                      Dense(10, activation='softmax'),\n",
    "                      ])\n",
    "  # загружаем веса modeli.load_weights('model.h5')\n",
    "  modeli.load_weights('model.h5')\n",
    "  # компилируем modeli с одним из оптимизаторов\n",
    "  modeli.compile(\n",
    "      optimizer=i_optim,\n",
    "      loss='categorical_crossentropy',\n",
    "      metrics=['accuracy'],\n",
    "      )\n",
    "  # вычисляем ошибку для modeli без обучения\n",
    "  hh0_tr = modeli.evaluate(  train_images[:48000,:], to_categorical(train_labels[:48000]),verbose = 0)\n",
    "  hh0_val = modeli.evaluate(  train_images[48000:,:], to_categorical(train_labels[48000:]),verbose = 0)\n",
    "  # проводим обучение модели \n",
    "  hh = modeli.fit(\n",
    "                  train_images,\n",
    "                  to_categorical(train_labels),\n",
    "                  epochs=epochs,\n",
    "                  batch_size=32, validation_split=0.2, verbose = 0\n",
    "                  )\n",
    "  # картинки\n",
    "  plt.plot(epoch,np.log([hh0_tr[0]]+hh.history['loss']),'-',label = modeli.optimizer.get_config()['name']+' train')\n",
    "  plt.plot(epoch,np.log([hh0_val[0]]+hh.history['val_loss']),'--',label = modeli.optimizer.get_config()['name']+' val')\n",
    "plt.legend()\n",
    "plt.grid('On')\n",
    "\n",
    "plt.title('нейросети от оптимизатора log(loss)')\n",
    "plt.xlabel('epoch')\n",
    "plt.ylabel('log(loss)')\n",
    "plt.show()"
   ]
  },
  {
   "cell_type": "code",
   "execution_count": 76,
   "id": "361a5080",
   "metadata": {},
   "outputs": [
    {
     "data": {
      "text/plain": [
       "{'name': 'Nadam',\n",
       " 'learning_rate': 0.001,\n",
       " 'decay': 0.004,\n",
       " 'beta_1': 0.9,\n",
       " 'beta_2': 0.999,\n",
       " 'epsilon': 1e-07}"
      ]
     },
     "execution_count": 76,
     "metadata": {},
     "output_type": "execute_result"
    }
   ],
   "source": [
    " modeli.optimizer.get_config()"
   ]
  },
  {
   "cell_type": "code",
   "execution_count": 77,
   "id": "be13ab98",
   "metadata": {},
   "outputs": [
    {
     "data": {
      "image/png": "[encoded data removed]",
      "text/plain": [
       "<Figure size 1944x360 with 9 Axes>"
      ]
     },
     "metadata": {
      "needs_background": "light"
     },
     "output_type": "display_data"
    }
   ],
   "source": [
    "N = 9\n",
    "y_pred = model1.predict(test_images[:N,:])\n",
    "y_pred_class = np.argmax(y_pred,axis=1)\n",
    "plt.figure(figsize =(3*N,5))\n",
    "for i in range(N):\n",
    "  plt.subplot(1,N,i+1)\n",
    "  plt.imshow(test_images[i,:].reshape(28,28))\n",
    "  plt.xlabel(str(y_pred_class[i]))\n",
    "plt.show()  "
   ]
  },
  {
   "cell_type": "code",
   "execution_count": 78,
   "id": "b255f51d",
   "metadata": {},
   "outputs": [
    {
     "data": {
      "text/plain": [
       "array([7, 2, 1, 0, 4, 1, 4, 9, 6], dtype=int64)"
      ]
     },
     "execution_count": 78,
     "metadata": {},
     "output_type": "execute_result"
    }
   ],
   "source": [
    "y_pred_class"
   ]
  },
  {
   "cell_type": "code",
   "execution_count": 79,
   "id": "444049bf",
   "metadata": {},
   "outputs": [
    {
     "data": {
      "text/plain": [
       "array([[0., 0., 0., 0., 0., 0., 0., 1., 0., 0.],\n",
       "       [0., 0., 1., 0., 0., 0., 0., 0., 0., 0.],\n",
       "       [0., 1., 0., 0., 0., 0., 0., 0., 0., 0.],\n",
       "       [1., 0., 0., 0., 0., 0., 0., 0., 0., 0.],\n",
       "       [0., 0., 0., 0., 1., 0., 0., 0., 0., 0.],\n",
       "       [0., 1., 0., 0., 0., 0., 0., 0., 0., 0.],\n",
       "       [0., 0., 0., 0., 1., 0., 0., 0., 0., 0.],\n",
       "       [0., 0., 0., 0., 0., 0., 0., 0., 0., 1.],\n",
       "       [0., 0., 0., 0., 0., 1., 0., 0., 0., 0.]], dtype=float32)"
      ]
     },
     "execution_count": 79,
     "metadata": {},
     "output_type": "execute_result"
    }
   ],
   "source": [
    "y_test[:9]"
   ]
  },
  {
   "cell_type": "code",
   "execution_count": 81,
   "id": "5cf08812",
   "metadata": {},
   "outputs": [
    {
     "name": "stdout",
     "output_type": "stream",
     "text": [
      "tf.Tensor(\n",
      "[[7.3264218e-08 1.1235586e-07 6.1092857e-07 ... 9.9994838e-01\n",
      "  2.6282353e-07 3.0289513e-05]\n",
      " [3.4587895e-06 9.3795306e-06 9.9995589e-01 ... 1.7666846e-08\n",
      "  1.2926038e-05 2.5537479e-09]\n",
      " [1.8073280e-07 9.9997032e-01 5.8944561e-06 ... 6.8750905e-06\n",
      "  1.7871980e-06 1.1606567e-07]\n",
      " ...\n",
      " [3.4654146e-08 7.7268901e-08 8.9722263e-08 ... 4.0472574e-07\n",
      "  4.7646614e-07 2.3228406e-06]\n",
      " [2.2759911e-08 9.1534886e-09 5.2978950e-09 ... 4.2570857e-08\n",
      "  1.7474846e-06 3.1035725e-09]\n",
      " [5.0207581e-07 1.6436138e-08 1.3935201e-07 ... 1.2587844e-07\n",
      "  6.9212319e-08 5.5244560e-09]], shape=(10000, 10), dtype=float32)\n"
     ]
    },
    {
     "data": {
      "text/plain": [
       "array([7, 2, 1, 0, 4, 1, 4, 9, 6], dtype=int64)"
      ]
     },
     "execution_count": 81,
     "metadata": {},
     "output_type": "execute_result"
    }
   ],
   "source": [
    "y_predi = model1(test_images[:,:])\n",
    "print(y_predi)\n",
    "np.argmax(y_predi[:9],axis=1)"
   ]
  },
  {
   "cell_type": "code",
   "execution_count": 84,
   "id": "2189bb96",
   "metadata": {},
   "outputs": [
    {
     "name": "stdout",
     "output_type": "stream",
     "text": [
      "[7 2 1 0 4 1 4 9 6]\n"
     ]
    },
    {
     "data": {
      "text/plain": [
       "array([5, 3, 4, 4, 9, 2, 5, 6, 8, 8, 2, 2, 7, 5, 9, 0, 1, 3, 8, 5, 1, 6,\n",
       "       6, 5, 7, 6, 4, 3, 9, 7, 7, 4, 9, 5, 5, 8, 7, 5, 2, 5, 7, 7, 7, 8,\n",
       "       4, 9, 3, 2, 6, 2, 3, 9, 4, 7, 2, 3, 9, 5, 7, 2, 0, 7, 7, 5, 2, 4,\n",
       "       7, 2, 3, 6, 9, 4, 6, 3, 0, 5, 8, 5, 9, 8, 9, 9, 9, 2, 2, 4, 5, 3,\n",
       "       9, 7, 9, 6, 8, 5, 4, 8, 7, 9, 3, 3, 9, 8, 1, 5, 2, 0, 8, 7, 6, 7,\n",
       "       7, 1, 3, 4, 9, 6, 4, 5, 9, 1, 8, 8, 7, 5, 4, 2, 0, 7, 5, 9, 4, 5,\n",
       "       7, 9, 3, 0, 8, 9, 8, 8, 2, 7, 1, 9, 2, 5, 2, 9, 5, 4, 9, 8, 6, 6,\n",
       "       7, 8, 8, 3, 8, 6, 9, 4, 8, 0, 2, 3, 1, 1, 8, 7, 1, 7, 3, 4, 7, 4,\n",
       "       5, 3, 5, 3, 5, 3, 0, 5, 3, 8, 3, 9, 9, 9, 9, 9, 2, 7, 0, 8, 0, 8,\n",
       "       1, 6, 8, 8, 8, 5, 2, 2, 0, 8, 8, 4, 8, 4, 7, 7, 3, 7, 8, 9, 9, 0,\n",
       "       4, 6, 9, 5, 2, 5, 5, 2, 9, 2, 2, 3, 3, 5], dtype=uint8)"
      ]
     },
     "execution_count": 84,
     "metadata": {},
     "output_type": "execute_result"
    }
   ],
   "source": [
    "yy = np.argmax(y_predi,axis=1)\n",
    "print(yy[:9])\n",
    "np.where(test_labels != yy)[0] #где мы ошиблись"
   ]
  },
  {
   "cell_type": "code",
   "execution_count": null,
   "id": "0a771717",
   "metadata": {},
   "outputs": [],
   "source": []
  }
 ],
 "metadata": {
  "kernelspec": {
   "display_name": "Python 3 (ipykernel)",
   "language": "python",
   "name": "python3"
  },
  "language_info": {
   "codemirror_mode": {
    "name": "ipython",
    "version": 3
   },
   "file_extension": ".py",
   "mimetype": "text/x-python",
   "name": "python",
   "nbconvert_exporter": "python",
   "pygments_lexer": "ipython3",
   "version": "3.9.7"
  }
 },
 "nbformat": 4,
 "nbformat_minor": 5
}
